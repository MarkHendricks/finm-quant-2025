{
 "cells": [
  {
   "cell_type": "markdown",
   "metadata": {},
   "source": [
    "# FINM 250 - TA Review 5 - A Safari of Python's Builtins\n",
    "\n",
    "## Tobias Rodriguez del Pozo\n",
    "\n",
    "In general, Python is designed to be easy and fast to write (note that this does not apply to some libraries, like `numpy` and `pandas`). Thus, it has a lot of built-in functions that are very useful. In this review, we will go over some of the most useful ones. Most of the time, when you are trying to do something with the basic data-types, there is already a built-in function that does it for you. When in doubt, check the documentation, or Google/your AI bot of choice. I have spent an embarrassing amount of time reading the documentation for built-in functions**, and writing code that is already written for me.\n",
    "\n",
    "\n",
    "** This does make for a good party trick in some circles, though.\n",
    "\n",
    "## 0 - Basics: Lists, Tuples, Dictionaries, Sets\n",
    "\n",
    "https://docs.python.org/3/library/stdtypes.html#\n",
    "\n",
    "https://docs.python.org/3/library/stdtypes.html#set-types-set-frozenset\n",
    "\n",
    "https://docs.python.org/3/library/stdtypes.html#mapping-types-dict\n",
    "\n",
    "https://docs.python.org/3/library/stdtypes.html#sequence-types-list-tuple-range"
   ]
  },
  {
   "cell_type": "code",
   "execution_count": 1,
   "metadata": {},
   "outputs": [],
   "source": [
    "# Some of the more useful ones:\n",
    "x = set([1, 2, 3, 4, 5])\n",
    "y = set([3, 4, 5, 6, 7])\n",
    "\n",
    "# x.intersection(y)\n",
    "# x.union(y)\n",
    "# x.difference(y)\n",
    "\n",
    "# Lists\n",
    "l = [1, 2, 3, 4, 5, 6, 7, 8, 3]\n",
    "# l.index(3)\n",
    "# l.index(3, 4)\n",
    "# l.count(3)"
   ]
  },
  {
   "cell_type": "code",
   "execution_count": 2,
   "metadata": {},
   "outputs": [],
   "source": [
    "# 1. Create a function called return_num_vowels that accepts an\n",
    "# input string and returns a dictionary where the keys are the vowels\n",
    "# a, e, i, o, u, and the values are the count of the vowels.\n",
    "\n",
    "\n",
    "def return_num_vowels(s):\n",
    "    s = s.lower()\n",
    "    return {k: s.count(k) for k in [*\"aeiou\"]}"
   ]
  },
  {
   "cell_type": "markdown",
   "metadata": {},
   "source": [
    "## 1 - Collections Module\n",
    "\n",
    "https://docs.python.org/3/library/collections.html"
   ]
  },
  {
   "cell_type": "code",
   "execution_count": 3,
   "metadata": {},
   "outputs": [
    {
     "data": {
      "text/plain": [
       "[('d', 7), ('a', 6), ('s', 6)]"
      ]
     },
     "execution_count": 3,
     "metadata": {},
     "output_type": "execute_result"
    }
   ],
   "source": [
    "# Leetcode question: Given a string, how do I find the first n characters that are most common?\n",
    "\n",
    "\n",
    "# One solution:\n",
    "def most_common(s, n):\n",
    "    counts = {}\n",
    "\n",
    "    for c in s:\n",
    "        if c in counts:\n",
    "            counts[c] += 1\n",
    "        else:\n",
    "            counts[c] = 1\n",
    "\n",
    "    return sorted(counts.items(), key=lambda x: x[1], reverse=True)[:n]\n",
    "\n",
    "\n",
    "most_common(\"djasodoijdasoijdbweoqbeqwobieqwpiehq9e-9e-asdpiasdjasdnpsao\", 3)"
   ]
  },
  {
   "cell_type": "code",
   "execution_count": 4,
   "metadata": {},
   "outputs": [
    {
     "data": {
      "text/plain": [
       "[('d', 7), ('a', 6), ('s', 6)]"
      ]
     },
     "execution_count": 4,
     "metadata": {},
     "output_type": "execute_result"
    }
   ],
   "source": [
    "# Or, using the Counter class!\n",
    "from collections import Counter\n",
    "\n",
    "\n",
    "def most_common(s, n):\n",
    "    return Counter(s).most_common(n)\n",
    "\n",
    "\n",
    "most_common(\"djasodoijdasoijdbweoqbeqwobieqwpiehq9e-9e-asdpiasdjasdnpsao\", 3)"
   ]
  },
  {
   "cell_type": "code",
   "execution_count": 5,
   "metadata": {},
   "outputs": [],
   "source": [
    "# Common problem #2: How do I append something to a dictionary if I don't know if the key exists?\n",
    "def append_to_dict(d, k, v):\n",
    "    if k in d:\n",
    "        d[k].append(v)\n",
    "    else:\n",
    "        d[k] = [v]\n",
    "\n",
    "\n",
    "d = {}\n",
    "append_to_dict(d, \"a\", 1)"
   ]
  },
  {
   "cell_type": "code",
   "execution_count": 6,
   "metadata": {},
   "outputs": [],
   "source": [
    "# Solution: use defaultdict!\n",
    "from collections import defaultdict\n",
    "\n",
    "d = defaultdict(int)\n",
    "\n",
    "d[\"a\"] += 1"
   ]
  },
  {
   "cell_type": "code",
   "execution_count": 7,
   "metadata": {},
   "outputs": [],
   "source": [
    "# Common problem #3: How do I combine two dictionaries?\n",
    "\n",
    "# One solution:\n",
    "my_dict = {\"a\": 1, \"b\": 2}\n",
    "other_dict = {\"c\": 3, \"d\": 4}\n",
    "\n",
    "my_dict.update(other_dict)"
   ]
  },
  {
   "cell_type": "code",
   "execution_count": 8,
   "metadata": {},
   "outputs": [],
   "source": [
    "# Maybe a better solution:\n",
    "new_dict = {**my_dict, **other_dict}"
   ]
  },
  {
   "cell_type": "code",
   "execution_count": 9,
   "metadata": {},
   "outputs": [
    {
     "data": {
      "text/plain": [
       "ChainMap({'a': 1, 'b': 2, 'c': 3, 'd': 4}, {'c': 3, 'd': 4})"
      ]
     },
     "execution_count": 9,
     "metadata": {},
     "output_type": "execute_result"
    }
   ],
   "source": [
    "# Or, for higher speed: use ChainMap!\n",
    "from collections import ChainMap\n",
    "\n",
    "ChainMap(my_dict, other_dict)"
   ]
  },
  {
   "cell_type": "code",
   "execution_count": 10,
   "metadata": {},
   "outputs": [
    {
     "name": "stdout",
     "output_type": "stream",
     "text": [
      "2.51 s ± 46.7 ms per loop (mean ± std. dev. of 7 runs, 1 loop each)\n"
     ]
    }
   ],
   "source": [
    "# Problem #4: Suppose you have a list that you want to append left to. How do you do it?\n",
    "# l = [1]\n",
    "# l.append(2) -> [1,2]\n",
    "# [2,1]\n",
    "def iter_list():\n",
    "    l = []\n",
    "    # left append\n",
    "    for i in range(1_000_00):\n",
    "        l.insert(0, i)\n",
    "    for i in range(1_000_00):\n",
    "        l.pop()\n",
    "\n",
    "\n",
    "%timeit iter_list()"
   ]
  },
  {
   "cell_type": "code",
   "execution_count": 11,
   "metadata": {},
   "outputs": [
    {
     "name": "stdout",
     "output_type": "stream",
     "text": [
      "5.04 ms ± 92.1 μs per loop (mean ± std. dev. of 7 runs, 100 loops each)\n"
     ]
    }
   ],
   "source": [
    "# One solution:\n",
    "def iter_list():\n",
    "    l = []\n",
    "    # left append\n",
    "    for i in range(1_000_00):\n",
    "        l.append(i)\n",
    "    l = l[::-1]\n",
    "    for i in range(1_000_00):\n",
    "        l.pop()\n",
    "\n",
    "\n",
    "%timeit iter_list()"
   ]
  },
  {
   "cell_type": "code",
   "execution_count": 12,
   "metadata": {},
   "outputs": [
    {
     "name": "stdout",
     "output_type": "stream",
     "text": [
      "5.8 ms ± 418 μs per loop (mean ± std. dev. of 7 runs, 100 loops each)\n"
     ]
    }
   ],
   "source": [
    "# Better solution: use a deque!\n",
    "from collections import deque\n",
    "\n",
    "\n",
    "def iter_deque():\n",
    "    d = deque()\n",
    "    for i in range(1_000_00):\n",
    "        d.appendleft(i)\n",
    "    for i in range(10_000):\n",
    "        d.append(i)\n",
    "    for i in range(1_000_00):\n",
    "        d.pop()\n",
    "\n",
    "\n",
    "%timeit iter_deque()"
   ]
  },
  {
   "cell_type": "markdown",
   "metadata": {},
   "source": [
    "## 2 - String Module\n",
    "\n",
    "https://docs.python.org/3/library/string.html\n",
    "\n",
    "https://docs.python.org/3/library/stdtypes.html#textseq\n",
    "\n",
    "But wait, aren't strings super easy?"
   ]
  },
  {
   "cell_type": "code",
   "execution_count": 13,
   "metadata": {},
   "outputs": [],
   "source": [
    "import string\n",
    "\n",
    "string.ascii_letters\n",
    "string.ascii_lowercase\n",
    "string.ascii_uppercase\n",
    "string.digits\n",
    "string.punctuation\n",
    "\n",
    "# Example: remove all the letters \"abc\" from a string\n",
    "\n",
    "\n",
    "# One solution:\n",
    "def remove_abc(s):\n",
    "    return s.replace(\"a\", \"\").replace(\"b\", \"\").replace(\"c\", \"\")\n",
    "\n",
    "\n",
    "# Or:\n",
    "def remove_abc(s):\n",
    "    \"\".join([c for c in s if c not in \"abc\"])"
   ]
  },
  {
   "cell_type": "code",
   "execution_count": 14,
   "metadata": {},
   "outputs": [
    {
     "data": {
      "text/plain": [
       "'de'"
      ]
     },
     "execution_count": 14,
     "metadata": {},
     "output_type": "execute_result"
    }
   ],
   "source": [
    "# Better solution:\n",
    "def remove_abc(s):\n",
    "    t = str.maketrans(\"\", \"\", \"abc\")\n",
    "    return s.translate(t)\n",
    "\n",
    "\n",
    "remove_abc(\"abcde\")"
   ]
  },
  {
   "cell_type": "code",
   "execution_count": 15,
   "metadata": {},
   "outputs": [
    {
     "data": {
      "text/plain": [
       "'a b c'"
      ]
     },
     "execution_count": 15,
     "metadata": {},
     "output_type": "execute_result"
    }
   ],
   "source": [
    "# \"abc\".endswith(\"c\")\n",
    "# \"abc\".find(\"c\")\n",
    "# \"abc\".isalnum() # .islower(), .isupper(), .isalpha(), .isdigit(), .isspace()\n",
    "# \"a b c\".split(\" \")\n",
    "\" \".join([*\"abc\"])"
   ]
  },
  {
   "cell_type": "markdown",
   "metadata": {},
   "source": [
    "## 3 - Itertools Module"
   ]
  },
  {
   "cell_type": "code",
   "execution_count": 16,
   "metadata": {},
   "outputs": [],
   "source": [
    "# Note that we have already talked about pairwise in a previous review session.\n",
    "# Goal: [1, 2, 3, 4] -> [(1, 2), (2, 3), (3, 4)]\n",
    "# Solution 1:\n",
    "def pairwise(l):\n",
    "    return list(zip(l[:-1], l[1:]))\n",
    "\n",
    "\n",
    "# Solution 2:\n",
    "from itertools import pairwise\n",
    "\n",
    "\n",
    "def make_pairs(l):\n",
    "    return list(pairwise(l))"
   ]
  },
  {
   "cell_type": "code",
   "execution_count": 17,
   "metadata": {},
   "outputs": [],
   "source": [
    "# Count, cycle, repeat\n",
    "# Goal: [1, 2, 3, 4] -> [1, 2, 3, 4, 1, 2, 3, 4, ...]\n",
    "\n",
    "# Works for lists, but what if our input is more complicated?\n",
    "l_repeat = [1, 2, 3, 4] * 5\n",
    "\n",
    "\n",
    "from itertools import cycle, repeat\n",
    "\n",
    "\n",
    "def repeat_list(l, n):\n",
    "    return list(repeat(l, n))\n",
    "\n",
    "\n",
    "def cycle_list(l, n):\n",
    "    return list(cycle(l))"
   ]
  },
  {
   "cell_type": "code",
   "execution_count": null,
   "metadata": {},
   "outputs": [],
   "source": [
    "# Infinite counter:\n",
    "from itertools import count\n",
    "\n",
    "# Solution 1:\n",
    "i = 10\n",
    "while True:\n",
    "    print(i)\n",
    "    i += 1\n",
    "    break\n",
    "\n",
    "# Solution 2:\n",
    "for i in count(10, 5):\n",
    "    print(i)"
   ]
  },
  {
   "cell_type": "code",
   "execution_count": 20,
   "metadata": {},
   "outputs": [
    {
     "name": "stdout",
     "output_type": "stream",
     "text": [
      "1 2\n",
      "1 3\n",
      "2 3\n",
      "1 2\n",
      "1 3\n",
      "2 3\n",
      "1 1\n",
      "1 2\n",
      "1 3\n",
      "2 1\n",
      "2 2\n",
      "2 3\n",
      "3 1\n",
      "3 2\n",
      "3 3\n",
      "1 1\n",
      "1 2\n",
      "1 3\n",
      "2 1\n",
      "2 2\n",
      "2 3\n",
      "3 1\n",
      "3 2\n",
      "3 3\n",
      "1 2\n",
      "1 3\n",
      "2 1\n",
      "2 3\n",
      "3 1\n",
      "3 2\n",
      "1 2\n",
      "1 3\n",
      "2 1\n",
      "2 3\n",
      "3 1\n",
      "3 2\n"
     ]
    }
   ],
   "source": [
    "# product, permutations, combinations\n",
    "a = [1, 2, 3]\n",
    "\n",
    "# Solution 1:\n",
    "for i in range(len(a)):\n",
    "    for j in range(i + 1, len(a)):\n",
    "        print(a[i], a[j])\n",
    "\n",
    "\n",
    "# Solution 2:\n",
    "from itertools import combinations\n",
    "\n",
    "for i, j in combinations(a, 2):\n",
    "    print(i, j)\n",
    "\n",
    "# Cartesian product:\n",
    "# Solution 1:\n",
    "for i in a:\n",
    "    for j in a:\n",
    "        print(i, j)\n",
    "\n",
    "# Solution 2:\n",
    "from itertools import product\n",
    "\n",
    "for i, j in product(a, a):\n",
    "    print(i, j)\n",
    "\n",
    "\n",
    "# Permutations:\n",
    "# Solution 1:\n",
    "for i in a:\n",
    "    for j in a:\n",
    "        if i != j:\n",
    "            print(i, j)\n",
    "\n",
    "# Solution 2:\n",
    "from itertools import permutations\n",
    "\n",
    "for i, j in permutations(a, 2):\n",
    "    print(i, j)"
   ]
  },
  {
   "cell_type": "code",
   "execution_count": 21,
   "metadata": {},
   "outputs": [],
   "source": [
    "# Chain and chain.from_iterable\n",
    "# GOAL: [[1, 2, 3], [4, 5, 6]] -> [1, 2, 3, 4, 5, 6]\n",
    "ll = [[1, 2, 3], [4, 5, 6]]\n",
    "# Solution 1:\n",
    "new_l = []\n",
    "for l in ll:\n",
    "    for i in l:\n",
    "        new_l.append(i)\n",
    "\n",
    "# Solution 2:\n",
    "from itertools import chain\n",
    "\n",
    "new_l = []\n",
    "for i in chain(*ll):\n",
    "    new_l.append(i)\n",
    "\n",
    "# Solution 3:\n",
    "new_l = list(chain.from_iterable(ll))"
   ]
  },
  {
   "cell_type": "code",
   "execution_count": 22,
   "metadata": {},
   "outputs": [],
   "source": [
    "# Dropwhile and takewhile\n",
    "# GOAL: [1, 2, 3, 4, 5, 6] -> [1, 2, 3]\n",
    "l = [1, 2, 3, 4, 5, 6]\n",
    "\n",
    "# Solution 1:\n",
    "new_l = []\n",
    "for i in l:\n",
    "    if i < 4:\n",
    "        new_l.append(i)\n",
    "    else:\n",
    "        break\n",
    "\n",
    "# Solution 2:\n",
    "from itertools import takewhile\n",
    "\n",
    "new_l = list(takewhile(lambda x: x < 4, l))\n",
    "\n",
    "# Solution 3:\n",
    "from itertools import dropwhile\n",
    "\n",
    "new_l = list(dropwhile(lambda x: x >= 4, l))"
   ]
  }
 ],
 "metadata": {
  "kernelspec": {
   "display_name": ".venv",
   "language": "python",
   "name": "python3"
  },
  "language_info": {
   "codemirror_mode": {
    "name": "ipython",
    "version": 3
   },
   "file_extension": ".py",
   "mimetype": "text/x-python",
   "name": "python",
   "nbconvert_exporter": "python",
   "pygments_lexer": "ipython3",
   "version": "3.13.5"
  },
  "orig_nbformat": 4
 },
 "nbformat": 4,
 "nbformat_minor": 2
}
