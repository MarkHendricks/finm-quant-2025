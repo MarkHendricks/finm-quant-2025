{
 "cells": [
  {
   "cell_type": "code",
   "execution_count": 1,
   "metadata": {},
   "outputs": [],
   "source": [
    "import pandas as pd\n",
    "import numpy as np\n",
    "import yfinance as yf"
   ]
  },
  {
   "cell_type": "code",
   "execution_count": 2,
   "metadata": {},
   "outputs": [],
   "source": [
    "OUTFILE = '../data/midterm_data.xlsx'\n",
    "\n",
    "STARTDATE = '2015-01-01'\n",
    "ENDDATE = '2025-07-05'"
   ]
  },
  {
   "cell_type": "markdown",
   "metadata": {},
   "source": [
    "***"
   ]
  },
  {
   "cell_type": "code",
   "execution_count": 3,
   "metadata": {},
   "outputs": [],
   "source": [
    "TICKS =  ['SPY','AAPL','NVDA','MSFT','GOOGL','AMZN','META','TSLA','AVGO','BRK-B','LLY','SHV']\n",
    "\n",
    "FLDS = ['shortName','quoteType','currency','volume','totalAssets','longBusinessSummary']"
   ]
  },
  {
   "cell_type": "code",
   "execution_count": 4,
   "metadata": {},
   "outputs": [],
   "source": [
    "info = pd.DataFrame(index=TICKS,columns=FLDS)\n",
    "info.index.name = 'ticker'\n",
    "for tick in info.index:\n",
    "    temp = yf.Ticker(tick).get_info()\n",
    "\n",
    "    for fld in FLDS:\n",
    "        if fld in temp.keys():\n",
    "            info.loc[tick,fld] = temp[fld]"
   ]
  },
  {
   "cell_type": "code",
   "execution_count": 5,
   "metadata": {},
   "outputs": [
    {
     "data": {
      "text/html": [
       "<div>\n",
       "<style scoped>\n",
       "    .dataframe tbody tr th:only-of-type {\n",
       "        vertical-align: middle;\n",
       "    }\n",
       "\n",
       "    .dataframe tbody tr th {\n",
       "        vertical-align: top;\n",
       "    }\n",
       "\n",
       "    .dataframe thead th {\n",
       "        text-align: right;\n",
       "    }\n",
       "</style>\n",
       "<table border=\"1\" class=\"dataframe\">\n",
       "  <thead>\n",
       "    <tr style=\"text-align: right;\">\n",
       "      <th></th>\n",
       "      <th>shortName</th>\n",
       "      <th>quoteType</th>\n",
       "      <th>currency</th>\n",
       "      <th>volume</th>\n",
       "      <th>totalAssets</th>\n",
       "      <th>longBusinessSummary</th>\n",
       "    </tr>\n",
       "    <tr>\n",
       "      <th>ticker</th>\n",
       "      <th></th>\n",
       "      <th></th>\n",
       "      <th></th>\n",
       "      <th></th>\n",
       "      <th></th>\n",
       "      <th></th>\n",
       "    </tr>\n",
       "  </thead>\n",
       "  <tbody>\n",
       "    <tr>\n",
       "      <th>SPY</th>\n",
       "      <td>SPDR S&amp;P 500</td>\n",
       "      <td>ETF</td>\n",
       "      <td>USD</td>\n",
       "      <td>63670226</td>\n",
       "      <td>603516960768</td>\n",
       "      <td>The trust seeks to achieve its investment obje...</td>\n",
       "    </tr>\n",
       "    <tr>\n",
       "      <th>AAPL</th>\n",
       "      <td>Apple Inc.</td>\n",
       "      <td>EQUITY</td>\n",
       "      <td>USD</td>\n",
       "      <td>39765812</td>\n",
       "      <td>NaN</td>\n",
       "      <td>Apple Inc. designs, manufactures, and markets ...</td>\n",
       "    </tr>\n",
       "    <tr>\n",
       "      <th>NVDA</th>\n",
       "      <td>NVIDIA Corporation</td>\n",
       "      <td>EQUITY</td>\n",
       "      <td>USD</td>\n",
       "      <td>193633263</td>\n",
       "      <td>NaN</td>\n",
       "      <td>NVIDIA Corporation, a computing infrastructure...</td>\n",
       "    </tr>\n",
       "    <tr>\n",
       "      <th>MSFT</th>\n",
       "      <td>Microsoft Corporation</td>\n",
       "      <td>EQUITY</td>\n",
       "      <td>USD</td>\n",
       "      <td>16459512</td>\n",
       "      <td>NaN</td>\n",
       "      <td>Microsoft Corporation develops and supports so...</td>\n",
       "    </tr>\n",
       "    <tr>\n",
       "      <th>GOOGL</th>\n",
       "      <td>Alphabet Inc.</td>\n",
       "      <td>EQUITY</td>\n",
       "      <td>USD</td>\n",
       "      <td>34282922</td>\n",
       "      <td>NaN</td>\n",
       "      <td>Alphabet Inc. offers various products and plat...</td>\n",
       "    </tr>\n",
       "    <tr>\n",
       "      <th>AMZN</th>\n",
       "      <td>Amazon.com, Inc.</td>\n",
       "      <td>EQUITY</td>\n",
       "      <td>USD</td>\n",
       "      <td>50518307</td>\n",
       "      <td>NaN</td>\n",
       "      <td>Amazon.com, Inc. engages in the retail sale of...</td>\n",
       "    </tr>\n",
       "    <tr>\n",
       "      <th>META</th>\n",
       "      <td>Meta Platforms, Inc.</td>\n",
       "      <td>EQUITY</td>\n",
       "      <td>USD</td>\n",
       "      <td>10873880</td>\n",
       "      <td>NaN</td>\n",
       "      <td>Meta Platforms, Inc. engages in the developmen...</td>\n",
       "    </tr>\n",
       "    <tr>\n",
       "      <th>TSLA</th>\n",
       "      <td>Tesla, Inc.</td>\n",
       "      <td>EQUITY</td>\n",
       "      <td>USD</td>\n",
       "      <td>79236442</td>\n",
       "      <td>NaN</td>\n",
       "      <td>Tesla, Inc. designs, develops, manufactures, l...</td>\n",
       "    </tr>\n",
       "    <tr>\n",
       "      <th>AVGO</th>\n",
       "      <td>Broadcom Inc.</td>\n",
       "      <td>EQUITY</td>\n",
       "      <td>USD</td>\n",
       "      <td>14274674</td>\n",
       "      <td>NaN</td>\n",
       "      <td>Broadcom Inc. designs, develops, and supplies ...</td>\n",
       "    </tr>\n",
       "    <tr>\n",
       "      <th>BRK-B</th>\n",
       "      <td>Berkshire Hathaway Inc. New</td>\n",
       "      <td>EQUITY</td>\n",
       "      <td>USD</td>\n",
       "      <td>4416578</td>\n",
       "      <td>NaN</td>\n",
       "      <td>Berkshire Hathaway Inc., through its subsidiar...</td>\n",
       "    </tr>\n",
       "    <tr>\n",
       "      <th>LLY</th>\n",
       "      <td>Eli Lilly and Company</td>\n",
       "      <td>EQUITY</td>\n",
       "      <td>USD</td>\n",
       "      <td>2852544</td>\n",
       "      <td>NaN</td>\n",
       "      <td>Eli Lilly and Company discovers, develops, and...</td>\n",
       "    </tr>\n",
       "    <tr>\n",
       "      <th>SHV</th>\n",
       "      <td>iShares Short Treasury Bond ETF</td>\n",
       "      <td>ETF</td>\n",
       "      <td>USD</td>\n",
       "      <td>2026495</td>\n",
       "      <td>20599980032</td>\n",
       "      <td>The fund will invest at least 80% of its asset...</td>\n",
       "    </tr>\n",
       "  </tbody>\n",
       "</table>\n",
       "</div>"
      ],
      "text/plain": [
       "                              shortName quoteType currency     volume  \\\n",
       "ticker                                                                  \n",
       "SPY                        SPDR S&P 500       ETF      USD   63670226   \n",
       "AAPL                         Apple Inc.    EQUITY      USD   39765812   \n",
       "NVDA                 NVIDIA Corporation    EQUITY      USD  193633263   \n",
       "MSFT              Microsoft Corporation    EQUITY      USD   16459512   \n",
       "GOOGL                     Alphabet Inc.    EQUITY      USD   34282922   \n",
       "AMZN                   Amazon.com, Inc.    EQUITY      USD   50518307   \n",
       "META               Meta Platforms, Inc.    EQUITY      USD   10873880   \n",
       "TSLA                        Tesla, Inc.    EQUITY      USD   79236442   \n",
       "AVGO                      Broadcom Inc.    EQUITY      USD   14274674   \n",
       "BRK-B       Berkshire Hathaway Inc. New    EQUITY      USD    4416578   \n",
       "LLY               Eli Lilly and Company    EQUITY      USD    2852544   \n",
       "SHV     iShares Short Treasury Bond ETF       ETF      USD    2026495   \n",
       "\n",
       "         totalAssets                                longBusinessSummary  \n",
       "ticker                                                                   \n",
       "SPY     603516960768  The trust seeks to achieve its investment obje...  \n",
       "AAPL             NaN  Apple Inc. designs, manufactures, and markets ...  \n",
       "NVDA             NaN  NVIDIA Corporation, a computing infrastructure...  \n",
       "MSFT             NaN  Microsoft Corporation develops and supports so...  \n",
       "GOOGL            NaN  Alphabet Inc. offers various products and plat...  \n",
       "AMZN             NaN  Amazon.com, Inc. engages in the retail sale of...  \n",
       "META             NaN  Meta Platforms, Inc. engages in the developmen...  \n",
       "TSLA             NaN  Tesla, Inc. designs, develops, manufactures, l...  \n",
       "AVGO             NaN  Broadcom Inc. designs, develops, and supplies ...  \n",
       "BRK-B            NaN  Berkshire Hathaway Inc., through its subsidiar...  \n",
       "LLY              NaN  Eli Lilly and Company discovers, develops, and...  \n",
       "SHV      20599980032  The fund will invest at least 80% of its asset...  "
      ]
     },
     "execution_count": 5,
     "metadata": {},
     "output_type": "execute_result"
    }
   ],
   "source": [
    "info"
   ]
  },
  {
   "cell_type": "code",
   "execution_count": 6,
   "metadata": {},
   "outputs": [
    {
     "name": "stderr",
     "output_type": "stream",
     "text": [
      "[*********************100%***********************]  12 of 12 completed\n"
     ]
    }
   ],
   "source": [
    "tickers = list(info.index.values)\n",
    "df = yf.download(tickers, start=STARTDATE, end=ENDDATE, auto_adjust=False)['Close']"
   ]
  },
  {
   "cell_type": "code",
   "execution_count": 7,
   "metadata": {},
   "outputs": [],
   "source": [
    "AGG = 'W-FRI'\n",
    "prices = df.resample(AGG).last().iloc[:-1,:]\n",
    "prices.index.name = 'date'\n",
    "\n",
    "# eliminate timezones\n",
    "prices.index = prices.index.tz_localize(None)\n",
    "\n",
    "rets = prices.pct_change().dropna()\n",
    "\n",
    "retsx = rets.subtract(rets['SHV'], axis=0)"
   ]
  },
  {
   "cell_type": "code",
   "execution_count": 8,
   "metadata": {},
   "outputs": [],
   "source": [
    "info = info.drop(index=['SHV'])\n",
    "retsx = retsx.drop(columns=['SHV'])"
   ]
  },
  {
   "cell_type": "markdown",
   "metadata": {},
   "source": [
    "***"
   ]
  },
  {
   "cell_type": "markdown",
   "metadata": {},
   "source": [
    "## Export Data"
   ]
  },
  {
   "cell_type": "code",
   "execution_count": 9,
   "metadata": {},
   "outputs": [],
   "source": [
    "with pd.ExcelWriter(OUTFILE) as writer:    \n",
    "    info.to_excel(writer, sheet_name='info')\n",
    "    retsx.to_excel(writer, sheet_name='excess returns')"
   ]
  }
 ],
 "metadata": {
  "hide_input": false,
  "kernelspec": {
   "display_name": "env-finm-quant-2025",
   "language": "python",
   "name": "python3"
  },
  "language_info": {
   "codemirror_mode": {
    "name": "ipython",
    "version": 3
   },
   "file_extension": ".py",
   "mimetype": "text/x-python",
   "name": "python",
   "nbconvert_exporter": "python",
   "pygments_lexer": "ipython3",
   "version": "3.10.18"
  }
 },
 "nbformat": 4,
 "nbformat_minor": 4
}
