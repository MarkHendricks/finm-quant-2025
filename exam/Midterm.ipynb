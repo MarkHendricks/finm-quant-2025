{
 "cells": [
  {
   "cell_type": "markdown",
   "id": "559895d2",
   "metadata": {},
   "source": [
    "# Midterm\n",
    "\n",
    "## FINM 25000 - 2025\n",
    "\n",
    "### UChicago Financial Mathematics\n",
    "\n",
    "* Mark Hendricks\n",
    "* hendricks@uchicago.edu"
   ]
  },
  {
   "cell_type": "markdown",
   "id": "ac1b55d5",
   "metadata": {},
   "source": [
    "***"
   ]
  },
  {
   "cell_type": "markdown",
   "id": "01cde8d3",
   "metadata": {},
   "source": [
    "# Instructions"
   ]
  },
  {
   "cell_type": "markdown",
   "id": "cc273c1a",
   "metadata": {},
   "source": [
    "## Please note the following:\n",
    "\n",
    "Submission\n",
    "* You will upload your solution to the `Midterm` assignment on Canvas, where you downloaded this. \n",
    "* Be sure to **submit** on Canvas, not just **save** on Canvas.\n",
    "* Your submission should be readable, (the graders can understand your answers,)\n",
    "* and it should **include all code used in your analysis in a file format that the code can be executed.** \n",
    "\n",
    "Rules\n",
    "* The exam is open-material, closed-communication.\n",
    "* You do not need to cite material from the course github repo--you are welcome to use the code posted there without citation.\n",
    "* If you prompt AI for help, you must cite the AI and the prompt. If you use AI embedded coding tools, cite that you used such tools.\n",
    "\n",
    "Advice\n",
    "* If you find any question to be unclear, state your interpretation and proceed. We will only answer questions of interpretation if there is a typo, error, etc.\n",
    "* The exam will be graded for partial credit."
   ]
  },
  {
   "cell_type": "markdown",
   "id": "ebf6e066",
   "metadata": {},
   "source": [
    "## Scoring\n",
    "\n",
    "| Problem | Points |\n",
    "|---------|--------|\n",
    "| 1       | 45     |\n",
    "| 2       | 40     |\n",
    "| 3       | 35     |\n",
    "\n",
    "\n",
    "Each numbered question is worth `5 points` unless otherwise specified.\n",
    "\n",
    "For every minute late you submit the exam, you will lose `1 point`."
   ]
  },
  {
   "cell_type": "markdown",
   "id": "632ce7d4",
   "metadata": {},
   "source": [
    "***"
   ]
  },
  {
   "cell_type": "markdown",
   "id": "32efbc32",
   "metadata": {},
   "source": [
    "## Data\n",
    "\n",
    "**All data files are found in the class github repo, in the `data` folder.**\n",
    "\n",
    "This exam makes use of the following data files:\n",
    "* `midterm_1_data.xlsx`\n",
    "\n",
    "This file has sheets for...\n",
    "* `excess returns` - excess returns of some of the biggest companies in the S&P, along with the SPY ETF.\n",
    "\n",
    "Note the data is **weekly**, so annualization should use a factor of `52`."
   ]
  },
  {
   "cell_type": "code",
   "execution_count": 1,
   "id": "197275f7",
   "metadata": {},
   "outputs": [],
   "source": [
    "import numpy as np\n",
    "import pandas as pd\n",
    "\n",
    "import matplotlib.pyplot as plt\n",
    "import seaborn as sns\n",
    "\n",
    "from sklearn.linear_model import LinearRegression"
   ]
  },
  {
   "cell_type": "code",
   "execution_count": 2,
   "id": "dc10ed70",
   "metadata": {},
   "outputs": [],
   "source": [
    "DATAFILE = '../data/midterm_data.xlsx'\n",
    "SHEET_INFO = 'info'"
   ]
  },
  {
   "cell_type": "code",
   "execution_count": 3,
   "id": "f72fdbc0",
   "metadata": {},
   "outputs": [],
   "source": [
    "info = pd.read_excel(DATAFILE,sheet_name=SHEET_INFO)\n",
    "info.set_index('ticker',inplace=True)"
   ]
  },
  {
   "cell_type": "code",
   "execution_count": 4,
   "id": "709740cd",
   "metadata": {},
   "outputs": [],
   "source": [
    "rets = pd.read_excel(DATAFILE,sheet_name='excess returns')\n",
    "rets.set_index('date',inplace=True)\n",
    "rets.columns = [s.split(' ')[0] for s in rets.columns]\n",
    "rets = rets[info.index]"
   ]
  },
  {
   "cell_type": "code",
   "execution_count": 5,
   "id": "b4ef752a",
   "metadata": {},
   "outputs": [
    {
     "data": {
      "text/html": [
       "<div>\n",
       "<style scoped>\n",
       "    .dataframe tbody tr th:only-of-type {\n",
       "        vertical-align: middle;\n",
       "    }\n",
       "\n",
       "    .dataframe tbody tr th {\n",
       "        vertical-align: top;\n",
       "    }\n",
       "\n",
       "    .dataframe thead th {\n",
       "        text-align: right;\n",
       "    }\n",
       "</style>\n",
       "<table border=\"1\" class=\"dataframe\">\n",
       "  <thead>\n",
       "    <tr style=\"text-align: right;\">\n",
       "      <th></th>\n",
       "      <th>shortName</th>\n",
       "      <th>quoteType</th>\n",
       "      <th>currency</th>\n",
       "      <th>volume</th>\n",
       "      <th>totalAssets</th>\n",
       "      <th>longBusinessSummary</th>\n",
       "    </tr>\n",
       "    <tr>\n",
       "      <th>ticker</th>\n",
       "      <th></th>\n",
       "      <th></th>\n",
       "      <th></th>\n",
       "      <th></th>\n",
       "      <th></th>\n",
       "      <th></th>\n",
       "    </tr>\n",
       "  </thead>\n",
       "  <tbody>\n",
       "    <tr>\n",
       "      <th>SPY</th>\n",
       "      <td>SPDR S&amp;P 500</td>\n",
       "      <td>ETF</td>\n",
       "      <td>USD</td>\n",
       "      <td>63670226</td>\n",
       "      <td>6.035170e+11</td>\n",
       "      <td>The trust seeks to achieve its investment obje...</td>\n",
       "    </tr>\n",
       "    <tr>\n",
       "      <th>AAPL</th>\n",
       "      <td>Apple Inc.</td>\n",
       "      <td>EQUITY</td>\n",
       "      <td>USD</td>\n",
       "      <td>39765812</td>\n",
       "      <td>NaN</td>\n",
       "      <td>Apple Inc. designs, manufactures, and markets ...</td>\n",
       "    </tr>\n",
       "    <tr>\n",
       "      <th>NVDA</th>\n",
       "      <td>NVIDIA Corporation</td>\n",
       "      <td>EQUITY</td>\n",
       "      <td>USD</td>\n",
       "      <td>193633263</td>\n",
       "      <td>NaN</td>\n",
       "      <td>NVIDIA Corporation, a computing infrastructure...</td>\n",
       "    </tr>\n",
       "    <tr>\n",
       "      <th>MSFT</th>\n",
       "      <td>Microsoft Corporation</td>\n",
       "      <td>EQUITY</td>\n",
       "      <td>USD</td>\n",
       "      <td>16459512</td>\n",
       "      <td>NaN</td>\n",
       "      <td>Microsoft Corporation develops and supports so...</td>\n",
       "    </tr>\n",
       "    <tr>\n",
       "      <th>GOOGL</th>\n",
       "      <td>Alphabet Inc.</td>\n",
       "      <td>EQUITY</td>\n",
       "      <td>USD</td>\n",
       "      <td>34282922</td>\n",
       "      <td>NaN</td>\n",
       "      <td>Alphabet Inc. offers various products and plat...</td>\n",
       "    </tr>\n",
       "    <tr>\n",
       "      <th>AMZN</th>\n",
       "      <td>Amazon.com, Inc.</td>\n",
       "      <td>EQUITY</td>\n",
       "      <td>USD</td>\n",
       "      <td>50518307</td>\n",
       "      <td>NaN</td>\n",
       "      <td>Amazon.com, Inc. engages in the retail sale of...</td>\n",
       "    </tr>\n",
       "    <tr>\n",
       "      <th>META</th>\n",
       "      <td>Meta Platforms, Inc.</td>\n",
       "      <td>EQUITY</td>\n",
       "      <td>USD</td>\n",
       "      <td>10873880</td>\n",
       "      <td>NaN</td>\n",
       "      <td>Meta Platforms, Inc. engages in the developmen...</td>\n",
       "    </tr>\n",
       "    <tr>\n",
       "      <th>TSLA</th>\n",
       "      <td>Tesla, Inc.</td>\n",
       "      <td>EQUITY</td>\n",
       "      <td>USD</td>\n",
       "      <td>79236442</td>\n",
       "      <td>NaN</td>\n",
       "      <td>Tesla, Inc. designs, develops, manufactures, l...</td>\n",
       "    </tr>\n",
       "    <tr>\n",
       "      <th>AVGO</th>\n",
       "      <td>Broadcom Inc.</td>\n",
       "      <td>EQUITY</td>\n",
       "      <td>USD</td>\n",
       "      <td>14274674</td>\n",
       "      <td>NaN</td>\n",
       "      <td>Broadcom Inc. designs, develops, and supplies ...</td>\n",
       "    </tr>\n",
       "    <tr>\n",
       "      <th>BRK-B</th>\n",
       "      <td>Berkshire Hathaway Inc. New</td>\n",
       "      <td>EQUITY</td>\n",
       "      <td>USD</td>\n",
       "      <td>4416578</td>\n",
       "      <td>NaN</td>\n",
       "      <td>Berkshire Hathaway Inc., through its subsidiar...</td>\n",
       "    </tr>\n",
       "    <tr>\n",
       "      <th>LLY</th>\n",
       "      <td>Eli Lilly and Company</td>\n",
       "      <td>EQUITY</td>\n",
       "      <td>USD</td>\n",
       "      <td>2852544</td>\n",
       "      <td>NaN</td>\n",
       "      <td>Eli Lilly and Company discovers, develops, and...</td>\n",
       "    </tr>\n",
       "  </tbody>\n",
       "</table>\n",
       "</div>"
      ],
      "text/plain": [
       "                          shortName quoteType currency     volume  \\\n",
       "ticker                                                              \n",
       "SPY                    SPDR S&P 500       ETF      USD   63670226   \n",
       "AAPL                     Apple Inc.    EQUITY      USD   39765812   \n",
       "NVDA             NVIDIA Corporation    EQUITY      USD  193633263   \n",
       "MSFT          Microsoft Corporation    EQUITY      USD   16459512   \n",
       "GOOGL                 Alphabet Inc.    EQUITY      USD   34282922   \n",
       "AMZN               Amazon.com, Inc.    EQUITY      USD   50518307   \n",
       "META           Meta Platforms, Inc.    EQUITY      USD   10873880   \n",
       "TSLA                    Tesla, Inc.    EQUITY      USD   79236442   \n",
       "AVGO                  Broadcom Inc.    EQUITY      USD   14274674   \n",
       "BRK-B   Berkshire Hathaway Inc. New    EQUITY      USD    4416578   \n",
       "LLY           Eli Lilly and Company    EQUITY      USD    2852544   \n",
       "\n",
       "         totalAssets                                longBusinessSummary  \n",
       "ticker                                                                   \n",
       "SPY     6.035170e+11  The trust seeks to achieve its investment obje...  \n",
       "AAPL             NaN  Apple Inc. designs, manufactures, and markets ...  \n",
       "NVDA             NaN  NVIDIA Corporation, a computing infrastructure...  \n",
       "MSFT             NaN  Microsoft Corporation develops and supports so...  \n",
       "GOOGL            NaN  Alphabet Inc. offers various products and plat...  \n",
       "AMZN             NaN  Amazon.com, Inc. engages in the retail sale of...  \n",
       "META             NaN  Meta Platforms, Inc. engages in the developmen...  \n",
       "TSLA             NaN  Tesla, Inc. designs, develops, manufactures, l...  \n",
       "AVGO             NaN  Broadcom Inc. designs, develops, and supplies ...  \n",
       "BRK-B            NaN  Berkshire Hathaway Inc., through its subsidiar...  \n",
       "LLY              NaN  Eli Lilly and Company discovers, develops, and...  "
      ]
     },
     "execution_count": 5,
     "metadata": {},
     "output_type": "execute_result"
    }
   ],
   "source": [
    "info"
   ]
  },
  {
   "cell_type": "code",
   "execution_count": 6,
   "id": "dd263dc2",
   "metadata": {},
   "outputs": [
    {
     "data": {
      "text/html": [
       "<div>\n",
       "<style scoped>\n",
       "    .dataframe tbody tr th:only-of-type {\n",
       "        vertical-align: middle;\n",
       "    }\n",
       "\n",
       "    .dataframe tbody tr th {\n",
       "        vertical-align: top;\n",
       "    }\n",
       "\n",
       "    .dataframe thead th {\n",
       "        text-align: right;\n",
       "    }\n",
       "</style>\n",
       "<table border=\"1\" class=\"dataframe\">\n",
       "  <thead>\n",
       "    <tr style=\"text-align: right;\">\n",
       "      <th></th>\n",
       "      <th>SPY</th>\n",
       "      <th>AAPL</th>\n",
       "      <th>NVDA</th>\n",
       "      <th>MSFT</th>\n",
       "      <th>GOOGL</th>\n",
       "      <th>AMZN</th>\n",
       "      <th>META</th>\n",
       "      <th>TSLA</th>\n",
       "      <th>AVGO</th>\n",
       "      <th>BRK-B</th>\n",
       "      <th>LLY</th>\n",
       "    </tr>\n",
       "    <tr>\n",
       "      <th>date</th>\n",
       "      <th></th>\n",
       "      <th></th>\n",
       "      <th></th>\n",
       "      <th></th>\n",
       "      <th></th>\n",
       "      <th></th>\n",
       "      <th></th>\n",
       "      <th></th>\n",
       "      <th></th>\n",
       "      <th></th>\n",
       "      <th></th>\n",
       "    </tr>\n",
       "  </thead>\n",
       "  <tbody>\n",
       "    <tr>\n",
       "      <th>2015-01-09</th>\n",
       "      <td>-0.005925</td>\n",
       "      <td>0.024332</td>\n",
       "      <td>-0.009620</td>\n",
       "      <td>0.009014</td>\n",
       "      <td>-0.054624</td>\n",
       "      <td>-0.037748</td>\n",
       "      <td>-0.009232</td>\n",
       "      <td>-0.057862</td>\n",
       "      <td>0.047875</td>\n",
       "      <td>0.001830</td>\n",
       "      <td>-0.002037</td>\n",
       "    </tr>\n",
       "    <tr>\n",
       "      <th>2015-01-16</th>\n",
       "      <td>-0.013009</td>\n",
       "      <td>-0.053927</td>\n",
       "      <td>0.000822</td>\n",
       "      <td>-0.020313</td>\n",
       "      <td>0.019271</td>\n",
       "      <td>-0.021028</td>\n",
       "      <td>-0.033112</td>\n",
       "      <td>-0.065942</td>\n",
       "      <td>-0.010477</td>\n",
       "      <td>-0.001921</td>\n",
       "      <td>0.010544</td>\n",
       "    </tr>\n",
       "    <tr>\n",
       "      <th>2015-01-23</th>\n",
       "      <td>0.016565</td>\n",
       "      <td>0.065950</td>\n",
       "      <td>0.037575</td>\n",
       "      <td>0.020329</td>\n",
       "      <td>0.061689</td>\n",
       "      <td>0.074465</td>\n",
       "      <td>0.035249</td>\n",
       "      <td>0.042575</td>\n",
       "      <td>0.030437</td>\n",
       "      <td>-0.000603</td>\n",
       "      <td>0.020515</td>\n",
       "    </tr>\n",
       "    <tr>\n",
       "      <th>2015-01-30</th>\n",
       "      <td>-0.026840</td>\n",
       "      <td>0.037088</td>\n",
       "      <td>-0.072821</td>\n",
       "      <td>-0.143614</td>\n",
       "      <td>-0.008028</td>\n",
       "      <td>0.134986</td>\n",
       "      <td>-0.024578</td>\n",
       "      <td>0.011567</td>\n",
       "      <td>-0.038234</td>\n",
       "      <td>-0.034848</td>\n",
       "      <td>-0.001712</td>\n",
       "    </tr>\n",
       "    <tr>\n",
       "      <th>2015-02-06</th>\n",
       "      <td>0.030493</td>\n",
       "      <td>0.015017</td>\n",
       "      <td>0.062409</td>\n",
       "      <td>0.049662</td>\n",
       "      <td>-0.006918</td>\n",
       "      <td>0.055617</td>\n",
       "      <td>-0.019061</td>\n",
       "      <td>0.067493</td>\n",
       "      <td>0.017989</td>\n",
       "      <td>0.043478</td>\n",
       "      <td>-0.022868</td>\n",
       "    </tr>\n",
       "    <tr>\n",
       "      <th>...</th>\n",
       "      <td>...</td>\n",
       "      <td>...</td>\n",
       "      <td>...</td>\n",
       "      <td>...</td>\n",
       "      <td>...</td>\n",
       "      <td>...</td>\n",
       "      <td>...</td>\n",
       "      <td>...</td>\n",
       "      <td>...</td>\n",
       "      <td>...</td>\n",
       "      <td>...</td>\n",
       "    </tr>\n",
       "    <tr>\n",
       "      <th>2025-05-30</th>\n",
       "      <td>0.017208</td>\n",
       "      <td>0.028032</td>\n",
       "      <td>0.028705</td>\n",
       "      <td>0.022070</td>\n",
       "      <td>0.018866</td>\n",
       "      <td>0.019457</td>\n",
       "      <td>0.032037</td>\n",
       "      <td>0.020438</td>\n",
       "      <td>0.057825</td>\n",
       "      <td>0.000450</td>\n",
       "      <td>0.033027</td>\n",
       "    </tr>\n",
       "    <tr>\n",
       "      <th>2025-06-06</th>\n",
       "      <td>0.019350</td>\n",
       "      <td>0.018092</td>\n",
       "      <td>0.051575</td>\n",
       "      <td>0.024573</td>\n",
       "      <td>0.014103</td>\n",
       "      <td>0.044561</td>\n",
       "      <td>0.080368</td>\n",
       "      <td>-0.145320</td>\n",
       "      <td>0.022884</td>\n",
       "      <td>-0.017889</td>\n",
       "      <td>0.046472</td>\n",
       "    </tr>\n",
       "    <tr>\n",
       "      <th>2025-06-13</th>\n",
       "      <td>-0.004571</td>\n",
       "      <td>-0.037631</td>\n",
       "      <td>0.000765</td>\n",
       "      <td>0.008738</td>\n",
       "      <td>0.004701</td>\n",
       "      <td>-0.007882</td>\n",
       "      <td>-0.022268</td>\n",
       "      <td>0.101224</td>\n",
       "      <td>0.006169</td>\n",
       "      <td>-0.013136</td>\n",
       "      <td>0.063271</td>\n",
       "    </tr>\n",
       "    <tr>\n",
       "      <th>2025-06-20</th>\n",
       "      <td>-0.005282</td>\n",
       "      <td>0.022435</td>\n",
       "      <td>0.012517</td>\n",
       "      <td>0.004412</td>\n",
       "      <td>-0.046698</td>\n",
       "      <td>-0.012088</td>\n",
       "      <td>-0.001487</td>\n",
       "      <td>-0.010409</td>\n",
       "      <td>0.004461</td>\n",
       "      <td>-0.006243</td>\n",
       "      <td>-0.069841</td>\n",
       "    </tr>\n",
       "    <tr>\n",
       "      <th>2025-06-27</th>\n",
       "      <td>0.033808</td>\n",
       "      <td>-0.000508</td>\n",
       "      <td>0.095722</td>\n",
       "      <td>0.037929</td>\n",
       "      <td>0.070445</td>\n",
       "      <td>0.063999</td>\n",
       "      <td>0.074246</td>\n",
       "      <td>0.003657</td>\n",
       "      <td>0.076537</td>\n",
       "      <td>0.000805</td>\n",
       "      <td>0.015771</td>\n",
       "    </tr>\n",
       "  </tbody>\n",
       "</table>\n",
       "<p>547 rows × 11 columns</p>\n",
       "</div>"
      ],
      "text/plain": [
       "                 SPY      AAPL      NVDA      MSFT     GOOGL      AMZN  \\\n",
       "date                                                                     \n",
       "2015-01-09 -0.005925  0.024332 -0.009620  0.009014 -0.054624 -0.037748   \n",
       "2015-01-16 -0.013009 -0.053927  0.000822 -0.020313  0.019271 -0.021028   \n",
       "2015-01-23  0.016565  0.065950  0.037575  0.020329  0.061689  0.074465   \n",
       "2015-01-30 -0.026840  0.037088 -0.072821 -0.143614 -0.008028  0.134986   \n",
       "2015-02-06  0.030493  0.015017  0.062409  0.049662 -0.006918  0.055617   \n",
       "...              ...       ...       ...       ...       ...       ...   \n",
       "2025-05-30  0.017208  0.028032  0.028705  0.022070  0.018866  0.019457   \n",
       "2025-06-06  0.019350  0.018092  0.051575  0.024573  0.014103  0.044561   \n",
       "2025-06-13 -0.004571 -0.037631  0.000765  0.008738  0.004701 -0.007882   \n",
       "2025-06-20 -0.005282  0.022435  0.012517  0.004412 -0.046698 -0.012088   \n",
       "2025-06-27  0.033808 -0.000508  0.095722  0.037929  0.070445  0.063999   \n",
       "\n",
       "                META      TSLA      AVGO     BRK-B       LLY  \n",
       "date                                                          \n",
       "2015-01-09 -0.009232 -0.057862  0.047875  0.001830 -0.002037  \n",
       "2015-01-16 -0.033112 -0.065942 -0.010477 -0.001921  0.010544  \n",
       "2015-01-23  0.035249  0.042575  0.030437 -0.000603  0.020515  \n",
       "2015-01-30 -0.024578  0.011567 -0.038234 -0.034848 -0.001712  \n",
       "2015-02-06 -0.019061  0.067493  0.017989  0.043478 -0.022868  \n",
       "...              ...       ...       ...       ...       ...  \n",
       "2025-05-30  0.032037  0.020438  0.057825  0.000450  0.033027  \n",
       "2025-06-06  0.080368 -0.145320  0.022884 -0.017889  0.046472  \n",
       "2025-06-13 -0.022268  0.101224  0.006169 -0.013136  0.063271  \n",
       "2025-06-20 -0.001487 -0.010409  0.004461 -0.006243 -0.069841  \n",
       "2025-06-27  0.074246  0.003657  0.076537  0.000805  0.015771  \n",
       "\n",
       "[547 rows x 11 columns]"
      ]
     },
     "execution_count": 6,
     "metadata": {},
     "output_type": "execute_result"
    }
   ],
   "source": [
    "rets"
   ]
  },
  {
   "cell_type": "markdown",
   "id": "3eb806cc",
   "metadata": {},
   "source": [
    "***"
   ]
  },
  {
   "cell_type": "markdown",
   "id": "1bf7517e",
   "metadata": {},
   "source": [
    "# 1. Risk Statistics and Decomposition"
   ]
  },
  {
   "cell_type": "markdown",
   "id": "e217389f",
   "metadata": {},
   "source": [
    "### 1.1. (10pts)\n",
    "\n",
    "Display a table with the following metrics for each of the return series.\n",
    "\n",
    "* mean (annualized)\n",
    "* volatility (annualized)\n",
    "* Sharpe ratio (annualized)\n",
    "* skewness\n",
    "* kurtosis\n",
    "* maximum drawdown"
   ]
  },
  {
   "cell_type": "markdown",
   "id": "fc0e0b7c",
   "metadata": {},
   "source": [
    "### 1.2."
   ]
  },
  {
   "cell_type": "markdown",
   "id": "4da07f88",
   "metadata": {},
   "source": [
    "As a standalone investment, which is most attractive? And least? Justify your answer."
   ]
  },
  {
   "cell_type": "markdown",
   "id": "3a5adfe0",
   "metadata": {},
   "source": [
    "### 1.3. (10pts)\n",
    "\n",
    "For each investment, estimate a regression against `SPY`. Report the \n",
    "* alpha (annualized as a mean)\n",
    "* beta\n",
    "* info ratio\n",
    "* r-squared"
   ]
  },
  {
   "cell_type": "markdown",
   "id": "b8101c60",
   "metadata": {},
   "source": [
    "### 1.4.\n",
    "\n",
    "Based on this table, which investment seems most attractive relative to holding `SPY`? Justify your answer."
   ]
  },
  {
   "cell_type": "markdown",
   "id": "8fb13e4d",
   "metadata": {},
   "source": [
    "### 1.5.\n",
    "\n",
    "Suppose you expect `AAPL` to do well relatively, but you want to hedge broad market risk (`SPY`) and A.I. risk (`NVDA`). \n",
    "\n",
    "For every $100 in `AAPL`, what should you hold in `SPY` and `NVDA`?\n",
    "\n",
    "Estimate the regression including an intercept."
   ]
  },
  {
   "cell_type": "markdown",
   "id": "0c5ae9ef",
   "metadata": {},
   "source": [
    "### 1.6.\n",
    "\n",
    "Without estimating anything new, consider the idea of replicating `AAPL` using `SPY`, and `NVDA`. Which regression statistic best indicates if your replication tracks the target well?"
   ]
  },
  {
   "cell_type": "markdown",
   "id": "b86fd5a4",
   "metadata": {},
   "source": [
    "### 1.7.\n",
    "\n",
    "In the ProShares case, did we find the attempts at hedge-fund replication were successful?\n",
    "\n",
    "Specifically, did we achieve high **correlation** to the...\n",
    "* Merril Lynch Benchmark?\n",
    "* HFRI Index?\n",
    "\n",
    "Were there any drawbacks to using our replication rather than the direct product?\n"
   ]
  },
  {
   "cell_type": "markdown",
   "id": "1f8fdfe4",
   "metadata": {},
   "source": [
    "***"
   ]
  },
  {
   "cell_type": "markdown",
   "id": "b01609ea",
   "metadata": {},
   "source": [
    "# 2. Portfolio Allocation"
   ]
  },
  {
   "cell_type": "markdown",
   "id": "48915f12",
   "metadata": {},
   "source": [
    "### 2.1.\n",
    "\n",
    "Display the correlation matrix of the returns.\n",
    "\n",
    "Based on this information, which investment do you anticipate will get extra weight in the portfolio, beyond what it would merit for its mean return? Explain."
   ]
  },
  {
   "cell_type": "markdown",
   "id": "513e2551",
   "metadata": {},
   "source": [
    "### 2.2.\n",
    "\n",
    "Calculate and report the weights of the mean-variance optimized portfolio, also called the tangency portfolio. \n",
    "\n",
    "*Note that these are excess returns.*"
   ]
  },
  {
   "cell_type": "markdown",
   "id": "0bb459ca",
   "metadata": {},
   "source": [
    "### 2.3.\n",
    "\n",
    "Report the following performance statistics of the portfolio achieved with the optimized weights calculated above.\n",
    "* mean\n",
    "* volatility\n",
    "* Sharpe\n",
    "\n",
    "(Annualize all three statistics.)"
   ]
  },
  {
   "cell_type": "markdown",
   "id": "cb1015fa",
   "metadata": {},
   "source": [
    "### 2.4.\n",
    "\n",
    "Consider the biggest positive weight (long) and most negative weight (short).\n",
    "\n",
    "Do they align with the most extreme Sharpe ratios? Explain."
   ]
  },
  {
   "cell_type": "markdown",
   "id": "15c4786c",
   "metadata": {},
   "source": [
    "### 2.5.\n",
    "\n",
    "Try dropping `SPY` from the set of assets. \n",
    "\n",
    "Re-run the optimization and report the new tangency weights."
   ]
  },
  {
   "cell_type": "markdown",
   "id": "1f99f7e5",
   "metadata": {},
   "source": [
    "### 2.6.\n",
    "\n",
    "Mark each of the statements as `True or False`. No justification is needed.\n",
    "\n",
    "In our analysis of the multi-asset portfolio optimization, we found that a change in TIPS mean excess returns caused a large change in the...\n",
    "\n",
    "* performance of the tangency portfolio.\n",
    "* weights of the tangency portfolio.\n",
    "* correlation structure of the assets."
   ]
  },
  {
   "cell_type": "markdown",
   "id": "162edb3b",
   "metadata": {},
   "source": [
    "### 2.7. (10pts)\n",
    "\n",
    "1. Briefly explain why the optimized portfolio is unrealistic in practice.\n",
    "\n",
    "1. What does Harvard do to make the optimization more practical.\n",
    "\n",
    "1. Why did Harvard optimize in levels (securities within an asset class, then all the broad asset classes) rather than direclty optimizing all the securities."
   ]
  },
  {
   "cell_type": "markdown",
   "id": "5a3eae0f",
   "metadata": {},
   "source": [
    "****"
   ]
  },
  {
   "cell_type": "markdown",
   "id": "d730c0c5",
   "metadata": {},
   "source": [
    "# 3. Expected Returns"
   ]
  },
  {
   "cell_type": "markdown",
   "id": "7dcc2592",
   "metadata": {},
   "source": [
    "### 3.1.\n",
    "\n",
    "Consider the CAPM as tested with a single stock,\n",
    "\n",
    "$$\\mathbb{E}\\left[r\\right] = \\beta\\,  \\mathbb{E}\\left[x\\right]$$\n",
    "\n",
    "where\n",
    "* $r$ denotes the return on `NVDA`, and ETF for U.S. oil\n",
    "* $x$ denotes the returns on `SPY`, an ETF for USD currency trades.\n",
    "\n",
    "Estimate the associated regression,\n",
    "$$r_t = \\alpha + \\beta x_t + \\epsilon_t$$\n",
    "\n",
    "Report,\n",
    "* $\\alpha$\n",
    "* $\\beta$\n",
    "* r-squared\n",
    "\n",
    "Annualize alpha."
   ]
  },
  {
   "cell_type": "markdown",
   "id": "eb7a42e6",
   "metadata": {},
   "source": [
    "### 3.2.\n",
    "\n",
    "What evidence is there that this (simplistic) factor pricing model does not price `NVDA` correctly?"
   ]
  },
  {
   "cell_type": "markdown",
   "id": "fe04fdc9",
   "metadata": {},
   "source": [
    "### 3.3.\n",
    "\n",
    "What is the (annualized) average excess return of `NVDA`?\n",
    "\n",
    "According to the CAPM, what level of average excess return is explained by the factor risk?"
   ]
  },
  {
   "cell_type": "markdown",
   "id": "a764d5b2",
   "metadata": {},
   "source": [
    "### 3.4.\n",
    "\n",
    "Now let's disregard the equilibrium pricing model above, and try calculating the expected return of `NVDA` via forecasting signals. To keep things simple, just use a forecasting regression (rather than a neural network, regression tree, etc.)\n",
    "$$r_{t+1} = \\alpha + \\beta x_t + \\epsilon_{t+1}$$\n",
    "\n",
    "We estimate a forecasting regression of `NVDA` on `SPY`.\n",
    "\n",
    "\n",
    "From this **forecasting** regression, report\n",
    "* $\\alpha$\n",
    "* $\\beta$\n",
    "* r-squared"
   ]
  },
  {
   "cell_type": "markdown",
   "id": "0b504c4e",
   "metadata": {},
   "source": [
    "### 3.5.\n",
    "\n",
    "Given the stats in `3.4.`, what do you think of this forecast for `NVDA`? Be specific."
   ]
  },
  {
   "cell_type": "markdown",
   "id": "a8126992",
   "metadata": {},
   "source": [
    "### 3.6.\n",
    "\n",
    "According to the signal forecasting model, what is the expected return (annualized) of `NVDA` in `July 2025`?"
   ]
  },
  {
   "cell_type": "markdown",
   "id": "4328087f",
   "metadata": {},
   "source": [
    "### 3.7.\n",
    "\n",
    "Why is it important to create style factors which go **long** and **short** the targeted style?"
   ]
  },
  {
   "cell_type": "markdown",
   "id": "788b43ca",
   "metadata": {},
   "source": [
    "****"
   ]
  }
 ],
 "metadata": {
  "hide_input": false,
  "kernelspec": {
   "display_name": "env-finm-quant-2025",
   "language": "python",
   "name": "python3"
  },
  "language_info": {
   "codemirror_mode": {
    "name": "ipython",
    "version": 3
   },
   "file_extension": ".py",
   "mimetype": "text/x-python",
   "name": "python",
   "nbconvert_exporter": "python",
   "pygments_lexer": "ipython3",
   "version": "3.10.18"
  }
 },
 "nbformat": 4,
 "nbformat_minor": 5
}
