{
 "cells": [
  {
   "cell_type": "markdown",
   "id": "559895d2",
   "metadata": {},
   "source": [
    "# **<span style=\"color:red\">Midterm Solutions</span>**\n",
    "\n",
    "## FINM 25000 - 2025\n",
    "\n",
    "### UChicago Financial Mathematics\n",
    "\n",
    "* Mark Hendricks\n",
    "* hendricks@uchicago.edu"
   ]
  },
  {
   "cell_type": "markdown",
   "id": "ac1b55d5",
   "metadata": {},
   "source": [
    "***"
   ]
  },
  {
   "cell_type": "markdown",
   "id": "01cde8d3",
   "metadata": {},
   "source": [
    "# Instructions"
   ]
  },
  {
   "cell_type": "markdown",
   "id": "cc273c1a",
   "metadata": {},
   "source": [
    "## Please note the following:\n",
    "\n",
    "Submission\n",
    "* You will upload your solution to the `Midterm` assignment on Canvas, where you downloaded this. \n",
    "* Be sure to **submit** on Canvas, not just **save** on Canvas.\n",
    "* Your submission should be readable, (the graders can understand your answers,)\n",
    "* and it should **include all code used in your analysis in a file format that the code can be executed.** \n",
    "\n",
    "Rules\n",
    "* The exam is open-material, closed-communication.\n",
    "* You do not need to cite material from the course github repo--you are welcome to use the code posted there without citation.\n",
    "* If you prompt AI for help, you must cite the AI and the prompt. If you use AI embedded coding tools, cite that you used such tools.\n",
    "\n",
    "Advice\n",
    "* If you find any question to be unclear, state your interpretation and proceed. We will only answer questions of interpretation if there is a typo, error, etc.\n",
    "* The exam will be graded for partial credit."
   ]
  },
  {
   "cell_type": "markdown",
   "id": "ebf6e066",
   "metadata": {},
   "source": [
    "## Scoring\n",
    "\n",
    "| Problem | Points |\n",
    "|---------|--------|\n",
    "| 1       | 45     |\n",
    "| 2       | 40     |\n",
    "| 3       | 35     |\n",
    "\n",
    "\n",
    "Each numbered question is worth `5 points` unless otherwise specified.\n",
    "\n",
    "For every minute late you submit the exam, you will lose `1 point`."
   ]
  },
  {
   "cell_type": "markdown",
   "id": "632ce7d4",
   "metadata": {},
   "source": [
    "***"
   ]
  },
  {
   "cell_type": "markdown",
   "id": "32efbc32",
   "metadata": {},
   "source": [
    "## Data\n",
    "\n",
    "**All data files are found in the class github repo, in the `data` folder.**\n",
    "\n",
    "This exam makes use of the following data files:\n",
    "* `midterm_1_data.xlsx`\n",
    "\n",
    "This file has sheets for...\n",
    "* `excess returns` - excess returns of some of the biggest companies in the S&P, along with the SPY ETF.\n",
    "\n",
    "Note the data is **weekly**, so annualization should use a factor of `52`."
   ]
  },
  {
   "cell_type": "code",
   "execution_count": 1,
   "id": "197275f7",
   "metadata": {},
   "outputs": [],
   "source": [
    "import numpy as np\n",
    "import pandas as pd\n",
    "\n",
    "import matplotlib.pyplot as plt\n",
    "import seaborn as sns\n",
    "\n",
    "import sys\n",
    "sys.path.insert(0, '../cmds')\n",
    "from portfolio import performanceMetrics, maximumDrawdown, get_ols_metrics"
   ]
  },
  {
   "cell_type": "code",
   "execution_count": 2,
   "id": "dc10ed70",
   "metadata": {},
   "outputs": [],
   "source": [
    "DATAFILE = '../data/midterm_data.xlsx'\n",
    "SHEET_INFO = 'info'\n",
    "FREQ = 52"
   ]
  },
  {
   "cell_type": "code",
   "execution_count": 3,
   "id": "f72fdbc0",
   "metadata": {},
   "outputs": [],
   "source": [
    "info = pd.read_excel(DATAFILE,sheet_name=SHEET_INFO)\n",
    "info.set_index('ticker',inplace=True)"
   ]
  },
  {
   "cell_type": "code",
   "execution_count": 4,
   "id": "709740cd",
   "metadata": {},
   "outputs": [],
   "source": [
    "rets = pd.read_excel(DATAFILE,sheet_name='excess returns')\n",
    "rets.set_index('date',inplace=True)\n",
    "rets.columns = [s.split(' ')[0] for s in rets.columns]\n",
    "rets = rets[info.index]"
   ]
  },
  {
   "cell_type": "code",
   "execution_count": 5,
   "id": "b4ef752a",
   "metadata": {},
   "outputs": [
    {
     "data": {
      "text/html": [
       "<div>\n",
       "<style scoped>\n",
       "    .dataframe tbody tr th:only-of-type {\n",
       "        vertical-align: middle;\n",
       "    }\n",
       "\n",
       "    .dataframe tbody tr th {\n",
       "        vertical-align: top;\n",
       "    }\n",
       "\n",
       "    .dataframe thead th {\n",
       "        text-align: right;\n",
       "    }\n",
       "</style>\n",
       "<table border=\"1\" class=\"dataframe\">\n",
       "  <thead>\n",
       "    <tr style=\"text-align: right;\">\n",
       "      <th></th>\n",
       "      <th>shortName</th>\n",
       "      <th>quoteType</th>\n",
       "      <th>currency</th>\n",
       "      <th>volume</th>\n",
       "      <th>totalAssets</th>\n",
       "      <th>longBusinessSummary</th>\n",
       "    </tr>\n",
       "    <tr>\n",
       "      <th>ticker</th>\n",
       "      <th></th>\n",
       "      <th></th>\n",
       "      <th></th>\n",
       "      <th></th>\n",
       "      <th></th>\n",
       "      <th></th>\n",
       "    </tr>\n",
       "  </thead>\n",
       "  <tbody>\n",
       "    <tr>\n",
       "      <th>SPY</th>\n",
       "      <td>SPDR S&amp;P 500</td>\n",
       "      <td>ETF</td>\n",
       "      <td>USD</td>\n",
       "      <td>63670226</td>\n",
       "      <td>6.035170e+11</td>\n",
       "      <td>The trust seeks to achieve its investment obje...</td>\n",
       "    </tr>\n",
       "    <tr>\n",
       "      <th>AAPL</th>\n",
       "      <td>Apple Inc.</td>\n",
       "      <td>EQUITY</td>\n",
       "      <td>USD</td>\n",
       "      <td>39765812</td>\n",
       "      <td>NaN</td>\n",
       "      <td>Apple Inc. designs, manufactures, and markets ...</td>\n",
       "    </tr>\n",
       "    <tr>\n",
       "      <th>NVDA</th>\n",
       "      <td>NVIDIA Corporation</td>\n",
       "      <td>EQUITY</td>\n",
       "      <td>USD</td>\n",
       "      <td>193633263</td>\n",
       "      <td>NaN</td>\n",
       "      <td>NVIDIA Corporation, a computing infrastructure...</td>\n",
       "    </tr>\n",
       "    <tr>\n",
       "      <th>MSFT</th>\n",
       "      <td>Microsoft Corporation</td>\n",
       "      <td>EQUITY</td>\n",
       "      <td>USD</td>\n",
       "      <td>16459512</td>\n",
       "      <td>NaN</td>\n",
       "      <td>Microsoft Corporation develops and supports so...</td>\n",
       "    </tr>\n",
       "    <tr>\n",
       "      <th>GOOGL</th>\n",
       "      <td>Alphabet Inc.</td>\n",
       "      <td>EQUITY</td>\n",
       "      <td>USD</td>\n",
       "      <td>34282922</td>\n",
       "      <td>NaN</td>\n",
       "      <td>Alphabet Inc. offers various products and plat...</td>\n",
       "    </tr>\n",
       "    <tr>\n",
       "      <th>AMZN</th>\n",
       "      <td>Amazon.com, Inc.</td>\n",
       "      <td>EQUITY</td>\n",
       "      <td>USD</td>\n",
       "      <td>50518307</td>\n",
       "      <td>NaN</td>\n",
       "      <td>Amazon.com, Inc. engages in the retail sale of...</td>\n",
       "    </tr>\n",
       "    <tr>\n",
       "      <th>META</th>\n",
       "      <td>Meta Platforms, Inc.</td>\n",
       "      <td>EQUITY</td>\n",
       "      <td>USD</td>\n",
       "      <td>10873880</td>\n",
       "      <td>NaN</td>\n",
       "      <td>Meta Platforms, Inc. engages in the developmen...</td>\n",
       "    </tr>\n",
       "    <tr>\n",
       "      <th>TSLA</th>\n",
       "      <td>Tesla, Inc.</td>\n",
       "      <td>EQUITY</td>\n",
       "      <td>USD</td>\n",
       "      <td>79236442</td>\n",
       "      <td>NaN</td>\n",
       "      <td>Tesla, Inc. designs, develops, manufactures, l...</td>\n",
       "    </tr>\n",
       "    <tr>\n",
       "      <th>AVGO</th>\n",
       "      <td>Broadcom Inc.</td>\n",
       "      <td>EQUITY</td>\n",
       "      <td>USD</td>\n",
       "      <td>14274674</td>\n",
       "      <td>NaN</td>\n",
       "      <td>Broadcom Inc. designs, develops, and supplies ...</td>\n",
       "    </tr>\n",
       "    <tr>\n",
       "      <th>BRK-B</th>\n",
       "      <td>Berkshire Hathaway Inc. New</td>\n",
       "      <td>EQUITY</td>\n",
       "      <td>USD</td>\n",
       "      <td>4416578</td>\n",
       "      <td>NaN</td>\n",
       "      <td>Berkshire Hathaway Inc., through its subsidiar...</td>\n",
       "    </tr>\n",
       "    <tr>\n",
       "      <th>LLY</th>\n",
       "      <td>Eli Lilly and Company</td>\n",
       "      <td>EQUITY</td>\n",
       "      <td>USD</td>\n",
       "      <td>2852544</td>\n",
       "      <td>NaN</td>\n",
       "      <td>Eli Lilly and Company discovers, develops, and...</td>\n",
       "    </tr>\n",
       "  </tbody>\n",
       "</table>\n",
       "</div>"
      ],
      "text/plain": [
       "                          shortName quoteType currency     volume  \\\n",
       "ticker                                                              \n",
       "SPY                    SPDR S&P 500       ETF      USD   63670226   \n",
       "AAPL                     Apple Inc.    EQUITY      USD   39765812   \n",
       "NVDA             NVIDIA Corporation    EQUITY      USD  193633263   \n",
       "MSFT          Microsoft Corporation    EQUITY      USD   16459512   \n",
       "GOOGL                 Alphabet Inc.    EQUITY      USD   34282922   \n",
       "AMZN               Amazon.com, Inc.    EQUITY      USD   50518307   \n",
       "META           Meta Platforms, Inc.    EQUITY      USD   10873880   \n",
       "TSLA                    Tesla, Inc.    EQUITY      USD   79236442   \n",
       "AVGO                  Broadcom Inc.    EQUITY      USD   14274674   \n",
       "BRK-B   Berkshire Hathaway Inc. New    EQUITY      USD    4416578   \n",
       "LLY           Eli Lilly and Company    EQUITY      USD    2852544   \n",
       "\n",
       "         totalAssets                                longBusinessSummary  \n",
       "ticker                                                                   \n",
       "SPY     6.035170e+11  The trust seeks to achieve its investment obje...  \n",
       "AAPL             NaN  Apple Inc. designs, manufactures, and markets ...  \n",
       "NVDA             NaN  NVIDIA Corporation, a computing infrastructure...  \n",
       "MSFT             NaN  Microsoft Corporation develops and supports so...  \n",
       "GOOGL            NaN  Alphabet Inc. offers various products and plat...  \n",
       "AMZN             NaN  Amazon.com, Inc. engages in the retail sale of...  \n",
       "META             NaN  Meta Platforms, Inc. engages in the developmen...  \n",
       "TSLA             NaN  Tesla, Inc. designs, develops, manufactures, l...  \n",
       "AVGO             NaN  Broadcom Inc. designs, develops, and supplies ...  \n",
       "BRK-B            NaN  Berkshire Hathaway Inc., through its subsidiar...  \n",
       "LLY              NaN  Eli Lilly and Company discovers, develops, and...  "
      ]
     },
     "execution_count": 5,
     "metadata": {},
     "output_type": "execute_result"
    }
   ],
   "source": [
    "info"
   ]
  },
  {
   "cell_type": "code",
   "execution_count": 6,
   "id": "dd263dc2",
   "metadata": {},
   "outputs": [
    {
     "data": {
      "text/html": [
       "<div>\n",
       "<style scoped>\n",
       "    .dataframe tbody tr th:only-of-type {\n",
       "        vertical-align: middle;\n",
       "    }\n",
       "\n",
       "    .dataframe tbody tr th {\n",
       "        vertical-align: top;\n",
       "    }\n",
       "\n",
       "    .dataframe thead th {\n",
       "        text-align: right;\n",
       "    }\n",
       "</style>\n",
       "<table border=\"1\" class=\"dataframe\">\n",
       "  <thead>\n",
       "    <tr style=\"text-align: right;\">\n",
       "      <th></th>\n",
       "      <th>SPY</th>\n",
       "      <th>AAPL</th>\n",
       "      <th>NVDA</th>\n",
       "      <th>MSFT</th>\n",
       "      <th>GOOGL</th>\n",
       "      <th>AMZN</th>\n",
       "      <th>META</th>\n",
       "      <th>TSLA</th>\n",
       "      <th>AVGO</th>\n",
       "      <th>BRK-B</th>\n",
       "      <th>LLY</th>\n",
       "    </tr>\n",
       "    <tr>\n",
       "      <th>date</th>\n",
       "      <th></th>\n",
       "      <th></th>\n",
       "      <th></th>\n",
       "      <th></th>\n",
       "      <th></th>\n",
       "      <th></th>\n",
       "      <th></th>\n",
       "      <th></th>\n",
       "      <th></th>\n",
       "      <th></th>\n",
       "      <th></th>\n",
       "    </tr>\n",
       "  </thead>\n",
       "  <tbody>\n",
       "    <tr>\n",
       "      <th>2015-01-09</th>\n",
       "      <td>-0.005925</td>\n",
       "      <td>0.024332</td>\n",
       "      <td>-0.009620</td>\n",
       "      <td>0.009014</td>\n",
       "      <td>-0.054624</td>\n",
       "      <td>-0.037748</td>\n",
       "      <td>-0.009232</td>\n",
       "      <td>-0.057862</td>\n",
       "      <td>0.047875</td>\n",
       "      <td>0.001830</td>\n",
       "      <td>-0.002037</td>\n",
       "    </tr>\n",
       "    <tr>\n",
       "      <th>2015-01-16</th>\n",
       "      <td>-0.013009</td>\n",
       "      <td>-0.053927</td>\n",
       "      <td>0.000822</td>\n",
       "      <td>-0.020313</td>\n",
       "      <td>0.019271</td>\n",
       "      <td>-0.021028</td>\n",
       "      <td>-0.033112</td>\n",
       "      <td>-0.065942</td>\n",
       "      <td>-0.010477</td>\n",
       "      <td>-0.001921</td>\n",
       "      <td>0.010544</td>\n",
       "    </tr>\n",
       "    <tr>\n",
       "      <th>2015-01-23</th>\n",
       "      <td>0.016565</td>\n",
       "      <td>0.065950</td>\n",
       "      <td>0.037575</td>\n",
       "      <td>0.020329</td>\n",
       "      <td>0.061689</td>\n",
       "      <td>0.074465</td>\n",
       "      <td>0.035249</td>\n",
       "      <td>0.042575</td>\n",
       "      <td>0.030437</td>\n",
       "      <td>-0.000603</td>\n",
       "      <td>0.020515</td>\n",
       "    </tr>\n",
       "    <tr>\n",
       "      <th>2015-01-30</th>\n",
       "      <td>-0.026840</td>\n",
       "      <td>0.037088</td>\n",
       "      <td>-0.072821</td>\n",
       "      <td>-0.143614</td>\n",
       "      <td>-0.008028</td>\n",
       "      <td>0.134986</td>\n",
       "      <td>-0.024578</td>\n",
       "      <td>0.011567</td>\n",
       "      <td>-0.038234</td>\n",
       "      <td>-0.034848</td>\n",
       "      <td>-0.001712</td>\n",
       "    </tr>\n",
       "    <tr>\n",
       "      <th>2015-02-06</th>\n",
       "      <td>0.030493</td>\n",
       "      <td>0.015017</td>\n",
       "      <td>0.062409</td>\n",
       "      <td>0.049662</td>\n",
       "      <td>-0.006918</td>\n",
       "      <td>0.055617</td>\n",
       "      <td>-0.019061</td>\n",
       "      <td>0.067493</td>\n",
       "      <td>0.017989</td>\n",
       "      <td>0.043478</td>\n",
       "      <td>-0.022868</td>\n",
       "    </tr>\n",
       "    <tr>\n",
       "      <th>...</th>\n",
       "      <td>...</td>\n",
       "      <td>...</td>\n",
       "      <td>...</td>\n",
       "      <td>...</td>\n",
       "      <td>...</td>\n",
       "      <td>...</td>\n",
       "      <td>...</td>\n",
       "      <td>...</td>\n",
       "      <td>...</td>\n",
       "      <td>...</td>\n",
       "      <td>...</td>\n",
       "    </tr>\n",
       "    <tr>\n",
       "      <th>2025-05-30</th>\n",
       "      <td>0.017208</td>\n",
       "      <td>0.028032</td>\n",
       "      <td>0.028705</td>\n",
       "      <td>0.022070</td>\n",
       "      <td>0.018866</td>\n",
       "      <td>0.019457</td>\n",
       "      <td>0.032037</td>\n",
       "      <td>0.020438</td>\n",
       "      <td>0.057825</td>\n",
       "      <td>0.000450</td>\n",
       "      <td>0.033027</td>\n",
       "    </tr>\n",
       "    <tr>\n",
       "      <th>2025-06-06</th>\n",
       "      <td>0.019350</td>\n",
       "      <td>0.018092</td>\n",
       "      <td>0.051575</td>\n",
       "      <td>0.024573</td>\n",
       "      <td>0.014103</td>\n",
       "      <td>0.044561</td>\n",
       "      <td>0.080368</td>\n",
       "      <td>-0.145320</td>\n",
       "      <td>0.022884</td>\n",
       "      <td>-0.017889</td>\n",
       "      <td>0.046472</td>\n",
       "    </tr>\n",
       "    <tr>\n",
       "      <th>2025-06-13</th>\n",
       "      <td>-0.004571</td>\n",
       "      <td>-0.037631</td>\n",
       "      <td>0.000765</td>\n",
       "      <td>0.008738</td>\n",
       "      <td>0.004701</td>\n",
       "      <td>-0.007882</td>\n",
       "      <td>-0.022268</td>\n",
       "      <td>0.101224</td>\n",
       "      <td>0.006169</td>\n",
       "      <td>-0.013136</td>\n",
       "      <td>0.063271</td>\n",
       "    </tr>\n",
       "    <tr>\n",
       "      <th>2025-06-20</th>\n",
       "      <td>-0.005282</td>\n",
       "      <td>0.022435</td>\n",
       "      <td>0.012517</td>\n",
       "      <td>0.004412</td>\n",
       "      <td>-0.046698</td>\n",
       "      <td>-0.012088</td>\n",
       "      <td>-0.001487</td>\n",
       "      <td>-0.010409</td>\n",
       "      <td>0.004461</td>\n",
       "      <td>-0.006243</td>\n",
       "      <td>-0.069841</td>\n",
       "    </tr>\n",
       "    <tr>\n",
       "      <th>2025-06-27</th>\n",
       "      <td>0.033808</td>\n",
       "      <td>-0.000508</td>\n",
       "      <td>0.095722</td>\n",
       "      <td>0.037929</td>\n",
       "      <td>0.070445</td>\n",
       "      <td>0.063999</td>\n",
       "      <td>0.074246</td>\n",
       "      <td>0.003657</td>\n",
       "      <td>0.076537</td>\n",
       "      <td>0.000805</td>\n",
       "      <td>0.015771</td>\n",
       "    </tr>\n",
       "  </tbody>\n",
       "</table>\n",
       "<p>547 rows × 11 columns</p>\n",
       "</div>"
      ],
      "text/plain": [
       "                 SPY      AAPL      NVDA      MSFT     GOOGL      AMZN  \\\n",
       "date                                                                     \n",
       "2015-01-09 -0.005925  0.024332 -0.009620  0.009014 -0.054624 -0.037748   \n",
       "2015-01-16 -0.013009 -0.053927  0.000822 -0.020313  0.019271 -0.021028   \n",
       "2015-01-23  0.016565  0.065950  0.037575  0.020329  0.061689  0.074465   \n",
       "2015-01-30 -0.026840  0.037088 -0.072821 -0.143614 -0.008028  0.134986   \n",
       "2015-02-06  0.030493  0.015017  0.062409  0.049662 -0.006918  0.055617   \n",
       "...              ...       ...       ...       ...       ...       ...   \n",
       "2025-05-30  0.017208  0.028032  0.028705  0.022070  0.018866  0.019457   \n",
       "2025-06-06  0.019350  0.018092  0.051575  0.024573  0.014103  0.044561   \n",
       "2025-06-13 -0.004571 -0.037631  0.000765  0.008738  0.004701 -0.007882   \n",
       "2025-06-20 -0.005282  0.022435  0.012517  0.004412 -0.046698 -0.012088   \n",
       "2025-06-27  0.033808 -0.000508  0.095722  0.037929  0.070445  0.063999   \n",
       "\n",
       "                META      TSLA      AVGO     BRK-B       LLY  \n",
       "date                                                          \n",
       "2015-01-09 -0.009232 -0.057862  0.047875  0.001830 -0.002037  \n",
       "2015-01-16 -0.033112 -0.065942 -0.010477 -0.001921  0.010544  \n",
       "2015-01-23  0.035249  0.042575  0.030437 -0.000603  0.020515  \n",
       "2015-01-30 -0.024578  0.011567 -0.038234 -0.034848 -0.001712  \n",
       "2015-02-06 -0.019061  0.067493  0.017989  0.043478 -0.022868  \n",
       "...              ...       ...       ...       ...       ...  \n",
       "2025-05-30  0.032037  0.020438  0.057825  0.000450  0.033027  \n",
       "2025-06-06  0.080368 -0.145320  0.022884 -0.017889  0.046472  \n",
       "2025-06-13 -0.022268  0.101224  0.006169 -0.013136  0.063271  \n",
       "2025-06-20 -0.001487 -0.010409  0.004461 -0.006243 -0.069841  \n",
       "2025-06-27  0.074246  0.003657  0.076537  0.000805  0.015771  \n",
       "\n",
       "[547 rows x 11 columns]"
      ]
     },
     "execution_count": 6,
     "metadata": {},
     "output_type": "execute_result"
    }
   ],
   "source": [
    "rets"
   ]
  },
  {
   "cell_type": "markdown",
   "id": "3eb806cc",
   "metadata": {},
   "source": [
    "***"
   ]
  },
  {
   "cell_type": "markdown",
   "id": "1bf7517e",
   "metadata": {},
   "source": [
    "# 1. Risk Statistics and Decomposition"
   ]
  },
  {
   "cell_type": "markdown",
   "id": "e217389f",
   "metadata": {},
   "source": [
    "### 1.1. (10pts)\n",
    "\n",
    "Display a table with the following metrics for each of the return series.\n",
    "\n",
    "* mean (annualized)\n",
    "* volatility (annualized)\n",
    "* Sharpe ratio (annualized)\n",
    "* skewness\n",
    "* kurtosis\n",
    "* maximum drawdown"
   ]
  },
  {
   "cell_type": "markdown",
   "id": "fc0e0b7c",
   "metadata": {},
   "source": [
    "### 1.2."
   ]
  },
  {
   "cell_type": "markdown",
   "id": "4da07f88",
   "metadata": {},
   "source": [
    "As a standalone investment, which is most attractive? And least? Justify your answer."
   ]
  },
  {
   "cell_type": "markdown",
   "id": "3a5adfe0",
   "metadata": {},
   "source": [
    "### 1.3. (10pts)\n",
    "\n",
    "For each investment, estimate a regression against `SPY`. Report the \n",
    "* alpha (annualized as a mean)\n",
    "* beta\n",
    "* info ratio\n",
    "* r-squared"
   ]
  },
  {
   "cell_type": "markdown",
   "id": "b8101c60",
   "metadata": {},
   "source": [
    "### 1.4.\n",
    "\n",
    "Based on this table, which investment seems most attractive relative to holding `SPY`? Justify your answer."
   ]
  },
  {
   "cell_type": "markdown",
   "id": "8fb13e4d",
   "metadata": {},
   "source": [
    "### 1.5.\n",
    "\n",
    "Suppose you expect `AAPL` to do well relatively, but you want to hedge broad market risk (`SPY`) and A.I. risk (`NVDA`). \n",
    "\n",
    "For every $100 in `AAPL`, what should you hold in `SPY` and `NVDA`?\n",
    "\n",
    "Estimate the regression including an intercept."
   ]
  },
  {
   "cell_type": "markdown",
   "id": "0c5ae9ef",
   "metadata": {},
   "source": [
    "### 1.6.\n",
    "\n",
    "Without estimating anything new, consider the idea of replicating `AAPL` using `SPY`, and `NVDA`. Which regression statistic best indicates if your replication tracks the target well?"
   ]
  },
  {
   "cell_type": "markdown",
   "id": "b86fd5a4",
   "metadata": {},
   "source": [
    "### 1.7.\n",
    "\n",
    "In the ProShares case, did we find the attempts at hedge-fund replication were successful?\n",
    "\n",
    "Specifically, did we achieve high **correlation** to the...\n",
    "* Merril Lynch Benchmark?\n",
    "* HFRI Index?\n",
    "\n",
    "Were there any drawbacks to using our replication rather than the direct product?\n"
   ]
  },
  {
   "cell_type": "markdown",
   "id": "44b34c41",
   "metadata": {},
   "source": [
    "***"
   ]
  },
  {
   "cell_type": "markdown",
   "id": "df5bdb7c",
   "metadata": {},
   "source": [
    "# **<span style=\"color:red\">Solution 1</span>**"
   ]
  },
  {
   "cell_type": "markdown",
   "id": "2636606d",
   "metadata": {},
   "source": [
    "### **<span style=\"color:red\">Solution 1.1.</span>**"
   ]
  },
  {
   "cell_type": "code",
   "execution_count": 7,
   "id": "1eeb936e",
   "metadata": {},
   "outputs": [
    {
     "data": {
      "text/html": [
       "<div>\n",
       "<style scoped>\n",
       "    .dataframe tbody tr th:only-of-type {\n",
       "        vertical-align: middle;\n",
       "    }\n",
       "\n",
       "    .dataframe tbody tr th {\n",
       "        vertical-align: top;\n",
       "    }\n",
       "\n",
       "    .dataframe thead th {\n",
       "        text-align: right;\n",
       "    }\n",
       "</style>\n",
       "<table border=\"1\" class=\"dataframe\">\n",
       "  <thead>\n",
       "    <tr style=\"text-align: right;\">\n",
       "      <th></th>\n",
       "      <th>Mean</th>\n",
       "      <th>Vol</th>\n",
       "      <th>Sharpe</th>\n",
       "      <th>Min</th>\n",
       "      <th>Max</th>\n",
       "      <th>skewness</th>\n",
       "      <th>kurtosis</th>\n",
       "      <th>max drawdown</th>\n",
       "    </tr>\n",
       "  </thead>\n",
       "  <tbody>\n",
       "    <tr>\n",
       "      <th>SPY</th>\n",
       "      <td>0.118939</td>\n",
       "      <td>0.171315</td>\n",
       "      <td>0.694271</td>\n",
       "      <td>-0.151896</td>\n",
       "      <td>0.120735</td>\n",
       "      <td>-0.627808</td>\n",
       "      <td>6.363700</td>\n",
       "      <td>-0.325741</td>\n",
       "    </tr>\n",
       "    <tr>\n",
       "      <th>AAPL</th>\n",
       "      <td>0.227994</td>\n",
       "      <td>0.276003</td>\n",
       "      <td>0.826057</td>\n",
       "      <td>-0.176750</td>\n",
       "      <td>0.147240</td>\n",
       "      <td>-0.214185</td>\n",
       "      <td>1.852149</td>\n",
       "      <td>-0.348104</td>\n",
       "    </tr>\n",
       "    <tr>\n",
       "      <th>NVDA</th>\n",
       "      <td>0.653633</td>\n",
       "      <td>0.461871</td>\n",
       "      <td>1.415184</td>\n",
       "      <td>-0.201059</td>\n",
       "      <td>0.302634</td>\n",
       "      <td>0.336949</td>\n",
       "      <td>1.391086</td>\n",
       "      <td>-0.657787</td>\n",
       "    </tr>\n",
       "    <tr>\n",
       "      <th>MSFT</th>\n",
       "      <td>0.253320</td>\n",
       "      <td>0.239516</td>\n",
       "      <td>1.057631</td>\n",
       "      <td>-0.143614</td>\n",
       "      <td>0.150259</td>\n",
       "      <td>0.066817</td>\n",
       "      <td>2.372360</td>\n",
       "      <td>-0.350826</td>\n",
       "    </tr>\n",
       "    <tr>\n",
       "      <th>GOOGL</th>\n",
       "      <td>0.220044</td>\n",
       "      <td>0.279465</td>\n",
       "      <td>0.787376</td>\n",
       "      <td>-0.121729</td>\n",
       "      <td>0.257970</td>\n",
       "      <td>0.572854</td>\n",
       "      <td>3.673239</td>\n",
       "      <td>-0.415141</td>\n",
       "    </tr>\n",
       "    <tr>\n",
       "      <th>AMZN</th>\n",
       "      <td>0.300886</td>\n",
       "      <td>0.305453</td>\n",
       "      <td>0.985051</td>\n",
       "      <td>-0.144492</td>\n",
       "      <td>0.185254</td>\n",
       "      <td>0.061550</td>\n",
       "      <td>1.754491</td>\n",
       "      <td>-0.545830</td>\n",
       "    </tr>\n",
       "    <tr>\n",
       "      <th>META</th>\n",
       "      <td>0.274415</td>\n",
       "      <td>0.352006</td>\n",
       "      <td>0.779574</td>\n",
       "      <td>-0.237346</td>\n",
       "      <td>0.243940</td>\n",
       "      <td>0.062078</td>\n",
       "      <td>3.990455</td>\n",
       "      <td>-0.758756</td>\n",
       "    </tr>\n",
       "    <tr>\n",
       "      <th>TSLA</th>\n",
       "      <td>0.462420</td>\n",
       "      <td>0.586525</td>\n",
       "      <td>0.788407</td>\n",
       "      <td>-0.259969</td>\n",
       "      <td>0.332566</td>\n",
       "      <td>0.535479</td>\n",
       "      <td>1.585674</td>\n",
       "      <td>-0.721138</td>\n",
       "    </tr>\n",
       "    <tr>\n",
       "      <th>AVGO</th>\n",
       "      <td>0.382419</td>\n",
       "      <td>0.375069</td>\n",
       "      <td>1.019597</td>\n",
       "      <td>-0.182846</td>\n",
       "      <td>0.251433</td>\n",
       "      <td>0.639696</td>\n",
       "      <td>3.515656</td>\n",
       "      <td>-0.409481</td>\n",
       "    </tr>\n",
       "    <tr>\n",
       "      <th>BRK-B</th>\n",
       "      <td>0.130218</td>\n",
       "      <td>0.189958</td>\n",
       "      <td>0.685508</td>\n",
       "      <td>-0.135557</td>\n",
       "      <td>0.098451</td>\n",
       "      <td>-0.199913</td>\n",
       "      <td>2.608872</td>\n",
       "      <td>-0.266894</td>\n",
       "    </tr>\n",
       "    <tr>\n",
       "      <th>LLY</th>\n",
       "      <td>0.268667</td>\n",
       "      <td>0.283345</td>\n",
       "      <td>0.948195</td>\n",
       "      <td>-0.123205</td>\n",
       "      <td>0.174379</td>\n",
       "      <td>0.210125</td>\n",
       "      <td>1.638064</td>\n",
       "      <td>-0.254568</td>\n",
       "    </tr>\n",
       "  </tbody>\n",
       "</table>\n",
       "</div>"
      ],
      "text/plain": [
       "           Mean       Vol    Sharpe       Min       Max  skewness  kurtosis  \\\n",
       "SPY    0.118939  0.171315  0.694271 -0.151896  0.120735 -0.627808  6.363700   \n",
       "AAPL   0.227994  0.276003  0.826057 -0.176750  0.147240 -0.214185  1.852149   \n",
       "NVDA   0.653633  0.461871  1.415184 -0.201059  0.302634  0.336949  1.391086   \n",
       "MSFT   0.253320  0.239516  1.057631 -0.143614  0.150259  0.066817  2.372360   \n",
       "GOOGL  0.220044  0.279465  0.787376 -0.121729  0.257970  0.572854  3.673239   \n",
       "AMZN   0.300886  0.305453  0.985051 -0.144492  0.185254  0.061550  1.754491   \n",
       "META   0.274415  0.352006  0.779574 -0.237346  0.243940  0.062078  3.990455   \n",
       "TSLA   0.462420  0.586525  0.788407 -0.259969  0.332566  0.535479  1.585674   \n",
       "AVGO   0.382419  0.375069  1.019597 -0.182846  0.251433  0.639696  3.515656   \n",
       "BRK-B  0.130218  0.189958  0.685508 -0.135557  0.098451 -0.199913  2.608872   \n",
       "LLY    0.268667  0.283345  0.948195 -0.123205  0.174379  0.210125  1.638064   \n",
       "\n",
       "       max drawdown  \n",
       "SPY       -0.325741  \n",
       "AAPL      -0.348104  \n",
       "NVDA      -0.657787  \n",
       "MSFT      -0.350826  \n",
       "GOOGL     -0.415141  \n",
       "AMZN      -0.545830  \n",
       "META      -0.758756  \n",
       "TSLA      -0.721138  \n",
       "AVGO      -0.409481  \n",
       "BRK-B     -0.266894  \n",
       "LLY       -0.254568  "
      ]
     },
     "execution_count": 7,
     "metadata": {},
     "output_type": "execute_result"
    }
   ],
   "source": [
    "mets = performanceMetrics(rets,annualization=FREQ)\n",
    "mets['skewness'] = rets.skew()\n",
    "mets['kurtosis'] = rets.kurtosis()\n",
    "mets['max drawdown'] = maximumDrawdown(rets)['Max Drawdown']\n",
    "mets"
   ]
  },
  {
   "cell_type": "markdown",
   "id": "3a1e6838",
   "metadata": {},
   "source": [
    "### **<span style=\"color:red\">Solution 1.2.</span>**"
   ]
  },
  {
   "cell_type": "markdown",
   "id": "998a68fb",
   "metadata": {},
   "source": [
    "As a standalone investment, `NVDA` has\n",
    "* the best Sharpe, which is the best vol-adjusted return.\n",
    "* large **positive** skewness which is attractive.\n",
    "* large kurtosis, which would be bad with negative skewness but is appealing with positive skewness.\n",
    "* a large max drawdown.\n",
    "\n",
    "If worried about the max drawdown, `LLY` may be a good choice.\n",
    "* smallest max drawdown\n",
    "* still has 4th hgihest Sharpe."
   ]
  },
  {
   "cell_type": "markdown",
   "id": "266462a0",
   "metadata": {},
   "source": [
    "### **<span style=\"color:red\">Solution 1.3.</span>**"
   ]
  },
  {
   "cell_type": "code",
   "execution_count": 8,
   "id": "c3af3f30",
   "metadata": {},
   "outputs": [
    {
     "data": {
      "text/html": [
       "<div>\n",
       "<style scoped>\n",
       "    .dataframe tbody tr th:only-of-type {\n",
       "        vertical-align: middle;\n",
       "    }\n",
       "\n",
       "    .dataframe tbody tr th {\n",
       "        vertical-align: top;\n",
       "    }\n",
       "\n",
       "    .dataframe thead th {\n",
       "        text-align: right;\n",
       "    }\n",
       "</style>\n",
       "<table border=\"1\" class=\"dataframe\">\n",
       "  <thead>\n",
       "    <tr style=\"text-align: right;\">\n",
       "      <th></th>\n",
       "      <th>alpha</th>\n",
       "      <th>SPY</th>\n",
       "      <th>r-squared</th>\n",
       "      <th>Treynor Ratio</th>\n",
       "      <th>Info Ratio</th>\n",
       "    </tr>\n",
       "  </thead>\n",
       "  <tbody>\n",
       "    <tr>\n",
       "      <th>SPY</th>\n",
       "      <td>0.000000</td>\n",
       "      <td>1.000000</td>\n",
       "      <td>1.000000</td>\n",
       "      <td>0.118939</td>\n",
       "      <td>None</td>\n",
       "    </tr>\n",
       "    <tr>\n",
       "      <th>AAPL</th>\n",
       "      <td>0.096511</td>\n",
       "      <td>1.105465</td>\n",
       "      <td>0.470818</td>\n",
       "      <td>0.206243</td>\n",
       "      <td>0.480686</td>\n",
       "    </tr>\n",
       "    <tr>\n",
       "      <th>NVDA</th>\n",
       "      <td>0.449431</td>\n",
       "      <td>1.716860</td>\n",
       "      <td>0.405526</td>\n",
       "      <td>0.380714</td>\n",
       "      <td>1.262048</td>\n",
       "    </tr>\n",
       "    <tr>\n",
       "      <th>MSFT</th>\n",
       "      <td>0.131683</td>\n",
       "      <td>1.022681</td>\n",
       "      <td>0.535057</td>\n",
       "      <td>0.247702</td>\n",
       "      <td>0.806298</td>\n",
       "    </tr>\n",
       "    <tr>\n",
       "      <th>GOOGL</th>\n",
       "      <td>0.093870</td>\n",
       "      <td>1.060832</td>\n",
       "      <td>0.422891</td>\n",
       "      <td>0.207426</td>\n",
       "      <td>0.44215</td>\n",
       "    </tr>\n",
       "    <tr>\n",
       "      <th>AMZN</th>\n",
       "      <td>0.174753</td>\n",
       "      <td>1.060484</td>\n",
       "      <td>0.353762</td>\n",
       "      <td>0.283726</td>\n",
       "      <td>0.711681</td>\n",
       "    </tr>\n",
       "    <tr>\n",
       "      <th>META</th>\n",
       "      <td>0.137196</td>\n",
       "      <td>1.153691</td>\n",
       "      <td>0.315260</td>\n",
       "      <td>0.237858</td>\n",
       "      <td>0.471008</td>\n",
       "    </tr>\n",
       "    <tr>\n",
       "      <th>TSLA</th>\n",
       "      <td>0.258016</td>\n",
       "      <td>1.718565</td>\n",
       "      <td>0.251971</td>\n",
       "      <td>0.269073</td>\n",
       "      <td>0.508628</td>\n",
       "    </tr>\n",
       "    <tr>\n",
       "      <th>AVGO</th>\n",
       "      <td>0.221165</td>\n",
       "      <td>1.355773</td>\n",
       "      <td>0.383480</td>\n",
       "      <td>0.282067</td>\n",
       "      <td>0.750985</td>\n",
       "    </tr>\n",
       "    <tr>\n",
       "      <th>BRK-B</th>\n",
       "      <td>0.033790</td>\n",
       "      <td>0.810733</td>\n",
       "      <td>0.534602</td>\n",
       "      <td>0.160617</td>\n",
       "      <td>0.260746</td>\n",
       "    </tr>\n",
       "    <tr>\n",
       "      <th>LLY</th>\n",
       "      <td>0.195315</td>\n",
       "      <td>0.616715</td>\n",
       "      <td>0.139036</td>\n",
       "      <td>0.435642</td>\n",
       "      <td>0.742895</td>\n",
       "    </tr>\n",
       "  </tbody>\n",
       "</table>\n",
       "</div>"
      ],
      "text/plain": [
       "          alpha       SPY  r-squared  Treynor Ratio Info Ratio\n",
       "SPY    0.000000  1.000000   1.000000       0.118939       None\n",
       "AAPL   0.096511  1.105465   0.470818       0.206243   0.480686\n",
       "NVDA   0.449431  1.716860   0.405526       0.380714   1.262048\n",
       "MSFT   0.131683  1.022681   0.535057       0.247702   0.806298\n",
       "GOOGL  0.093870  1.060832   0.422891       0.207426    0.44215\n",
       "AMZN   0.174753  1.060484   0.353762       0.283726   0.711681\n",
       "META   0.137196  1.153691   0.315260       0.237858   0.471008\n",
       "TSLA   0.258016  1.718565   0.251971       0.269073   0.508628\n",
       "AVGO   0.221165  1.355773   0.383480       0.282067   0.750985\n",
       "BRK-B  0.033790  0.810733   0.534602       0.160617   0.260746\n",
       "LLY    0.195315  0.616715   0.139036       0.435642   0.742895"
      ]
     },
     "execution_count": 8,
     "metadata": {},
     "output_type": "execute_result"
    }
   ],
   "source": [
    "get_ols_metrics(rets['SPY'],rets,FREQ)"
   ]
  },
  {
   "cell_type": "markdown",
   "id": "cf0accc8",
   "metadata": {},
   "source": [
    "### **<span style=\"color:red\">Solution 1.4.</span>**"
   ]
  },
  {
   "cell_type": "markdown",
   "id": "4bbe1203",
   "metadata": {},
   "source": [
    "Two possible answers:\n",
    "\n",
    "Based on this table, `NVDA` is the most attractive. It not only has (by far) the highest alpha, but also the highest Info Ratio (which is the risk-adjusted alpha.)\n",
    "\n",
    "`LLY` is the most attractive relative to SPY. It has the third highest alpha, but by far the lowest $r^2$ and $\\beta$, and the 4th highest information ratio."
   ]
  },
  {
   "cell_type": "markdown",
   "id": "4587926c",
   "metadata": {},
   "source": [
    "### **<span style=\"color:red\">Solution 1.5.</span>**"
   ]
  },
  {
   "cell_type": "code",
   "execution_count": 9,
   "id": "6e1832b0",
   "metadata": {},
   "outputs": [
    {
     "data": {
      "text/html": [
       "<div>\n",
       "<style scoped>\n",
       "    .dataframe tbody tr th:only-of-type {\n",
       "        vertical-align: middle;\n",
       "    }\n",
       "\n",
       "    .dataframe tbody tr th {\n",
       "        vertical-align: top;\n",
       "    }\n",
       "\n",
       "    .dataframe thead th {\n",
       "        text-align: right;\n",
       "    }\n",
       "</style>\n",
       "<table border=\"1\" class=\"dataframe\">\n",
       "  <thead>\n",
       "    <tr style=\"text-align: right;\">\n",
       "      <th></th>\n",
       "      <th>alpha</th>\n",
       "      <th>SPY</th>\n",
       "      <th>NVDA</th>\n",
       "      <th>r-squared</th>\n",
       "      <th>Info Ratio</th>\n",
       "    </tr>\n",
       "  </thead>\n",
       "  <tbody>\n",
       "    <tr>\n",
       "      <th>AAPL</th>\n",
       "      <td>0.07294</td>\n",
       "      <td>1.015422</td>\n",
       "      <td>0.052446</td>\n",
       "      <td>0.475397</td>\n",
       "      <td>0.36487</td>\n",
       "    </tr>\n",
       "  </tbody>\n",
       "</table>\n",
       "</div>"
      ],
      "text/plain": [
       "        alpha       SPY      NVDA  r-squared  Info Ratio\n",
       "AAPL  0.07294  1.015422  0.052446   0.475397     0.36487"
      ]
     },
     "execution_count": 9,
     "metadata": {},
     "output_type": "execute_result"
    }
   ],
   "source": [
    "get_ols_metrics(rets[['SPY','NVDA']],rets[['AAPL']],FREQ)"
   ]
  },
  {
   "cell_type": "markdown",
   "id": "67c2358c",
   "metadata": {},
   "source": [
    "For every $100 in `AAPL`, we would short 101.5 dollars of `SPY` and short 5.2 dollars of `NVDA`."
   ]
  },
  {
   "cell_type": "markdown",
   "id": "d9a0dd26",
   "metadata": {},
   "source": [
    "### **<span style=\"color:red\">Solution 1.6.</span>**"
   ]
  },
  {
   "cell_type": "markdown",
   "id": "9e7563f1",
   "metadata": {},
   "source": [
    "The r-squared indicates how highly correlated our replication is to the target."
   ]
  },
  {
   "cell_type": "markdown",
   "id": "e14b9dab",
   "metadata": {},
   "source": [
    "### **<span style=\"color:red\">Solution 1.7.</span>**"
   ]
  },
  {
   "cell_type": "markdown",
   "id": "b3977263",
   "metadata": {},
   "source": [
    "The product was extremely corrrelated to the benchmark from Merril Lynch. It was substantially correlated (not perfectly) with HFRI.\n",
    "\n",
    "The downside of using the replication product was a substantially lower mean return. The actual HFRI had that variation pattern but with much higher mean return."
   ]
  },
  {
   "cell_type": "markdown",
   "id": "1f8fdfe4",
   "metadata": {},
   "source": [
    "***"
   ]
  },
  {
   "cell_type": "markdown",
   "id": "b01609ea",
   "metadata": {},
   "source": [
    "# 2. Portfolio Allocation"
   ]
  },
  {
   "cell_type": "markdown",
   "id": "48915f12",
   "metadata": {},
   "source": [
    "### 2.1.\n",
    "\n",
    "Display the correlation matrix of the returns.\n",
    "\n",
    "Based on this information, which investment do you anticipate will get extra weight in the portfolio, beyond what it would merit for its mean return? Explain."
   ]
  },
  {
   "cell_type": "markdown",
   "id": "513e2551",
   "metadata": {},
   "source": [
    "### 2.2.\n",
    "\n",
    "Calculate and report the weights of the mean-variance optimized portfolio, also called the tangency portfolio. \n",
    "\n",
    "*Note that these are excess returns.*"
   ]
  },
  {
   "cell_type": "markdown",
   "id": "0bb459ca",
   "metadata": {},
   "source": [
    "### 2.3.\n",
    "\n",
    "Report the following performance statistics of the portfolio achieved with the optimized weights calculated above.\n",
    "* mean\n",
    "* volatility\n",
    "* Sharpe\n",
    "\n",
    "(Annualize all three statistics.)"
   ]
  },
  {
   "cell_type": "markdown",
   "id": "cb1015fa",
   "metadata": {},
   "source": [
    "### 2.4.\n",
    "\n",
    "Consider the biggest positive weight (long) and most negative weight (short).\n",
    "\n",
    "Do they align with the most extreme Sharpe ratios? Explain."
   ]
  },
  {
   "cell_type": "markdown",
   "id": "15c4786c",
   "metadata": {},
   "source": [
    "### 2.5.\n",
    "\n",
    "Try dropping `SPY` from the set of assets. \n",
    "\n",
    "Re-run the optimization and report the new tangency weights."
   ]
  },
  {
   "cell_type": "markdown",
   "id": "1f99f7e5",
   "metadata": {},
   "source": [
    "### 2.6.\n",
    "\n",
    "Mark each of the statements as `True or False`. No justification is needed.\n",
    "\n",
    "In our analysis of the multi-asset portfolio optimization, we found that a change in TIPS mean excess returns caused a large change in the...\n",
    "\n",
    "* performance of the tangency portfolio.\n",
    "* weights of the tangency portfolio.\n",
    "* correlation structure of the assets."
   ]
  },
  {
   "cell_type": "markdown",
   "id": "162edb3b",
   "metadata": {},
   "source": [
    "### 2.7. (10pts)\n",
    "\n",
    "1. Briefly explain why the optimized portfolio is unrealistic in practice.\n",
    "\n",
    "1. What does Harvard do to make the optimization more practical.\n",
    "\n",
    "1. Why did Harvard optimize in levels (securities within an asset class, then all the broad asset classes) rather than direclty optimizing all the securities."
   ]
  },
  {
   "cell_type": "markdown",
   "id": "5a3eae0f",
   "metadata": {},
   "source": [
    "****"
   ]
  },
  {
   "cell_type": "markdown",
   "id": "eccb1beb",
   "metadata": {},
   "source": [
    "# **<span style=\"color:red\">Solution 2</span>**"
   ]
  },
  {
   "cell_type": "markdown",
   "id": "8371c6b4",
   "metadata": {},
   "source": [
    "### **<span style=\"color:red\">Solution 2.1</span>**"
   ]
  },
  {
   "cell_type": "code",
   "execution_count": 10,
   "id": "4c846bc1",
   "metadata": {},
   "outputs": [
    {
     "data": {
      "image/png": "[encoded data removed]",
      "text/plain": [
       "<Figure size 640x480 with 2 Axes>"
      ]
     },
     "metadata": {},
     "output_type": "display_data"
    }
   ],
   "source": [
    "corrmat = rets.corr()\n",
    "corrmat[corrmat==1] = None\n",
    "sns.heatmap(corrmat,annot=True,fmt='.0%');"
   ]
  },
  {
   "cell_type": "code",
   "execution_count": 11,
   "id": "2686eb1b",
   "metadata": {},
   "outputs": [
    {
     "name": "stdout",
     "output_type": "stream",
     "text": [
      "MIN Correlation pair is ('LLY', 'AVGO')\n",
      "MAX Correlation pair is ('SPY', 'MSFT')\n"
     ]
    }
   ],
   "source": [
    "corr_rank = corrmat.unstack().sort_values().dropna()\n",
    "pair_max = corr_rank.index[-1]\n",
    "pair_min = corr_rank.index[0]\n",
    "\n",
    "print(f'MIN Correlation pair is {pair_min}')\n",
    "print(f'MAX Correlation pair is {pair_max}')"
   ]
  },
  {
   "cell_type": "markdown",
   "id": "9d148d2b",
   "metadata": {},
   "source": [
    "Just from the correlation matrix, we can anticipate that the optimizer will...\n",
    "* reduce weight of `SPY` for its high correlations to the majority of the stocks. \n",
    "* increase weight of `LLY` and `BRK` for their extremely low cross correlations.\n",
    "\n",
    "Below, we see that `SPY` is massively short and `BRK` is massively long."
   ]
  },
  {
   "cell_type": "markdown",
   "id": "f0d147d0",
   "metadata": {},
   "source": [
    "### **<span style=\"color:red\">Solution 2.2</span>**"
   ]
  },
  {
   "cell_type": "code",
   "execution_count": 12,
   "id": "f9601755",
   "metadata": {},
   "outputs": [],
   "source": [
    "def optimized_weights(returns,dropna=True,scale_cov=1):\n",
    "    if dropna:\n",
    "        returns = returns.dropna()\n",
    "\n",
    "    covmat_full = returns.cov()\n",
    "    covmat_diag = np.diag(np.diag(covmat_full))\n",
    "    covmat = scale_cov * covmat_full + (1-scale_cov) * covmat_diag\n",
    "\n",
    "    weights = np.linalg.solve(covmat,returns.mean())\n",
    "    weights = weights / weights.sum()\n",
    "\n",
    "    if returns.mean() @ weights < 0:\n",
    "        weights = -weights\n",
    "\n",
    "    return pd.DataFrame(weights, index=returns.columns)"
   ]
  },
  {
   "cell_type": "code",
   "execution_count": 13,
   "id": "b362f30b",
   "metadata": {},
   "outputs": [],
   "source": [
    "wts = pd.DataFrame(index=rets.columns)\n",
    "wts['optimized weights'] = optimized_weights(rets)"
   ]
  },
  {
   "cell_type": "code",
   "execution_count": 14,
   "id": "06d59b54",
   "metadata": {},
   "outputs": [
    {
     "data": {
      "text/plain": [
       "BRK-B    3.084359\n",
       "LLY      1.202377\n",
       "NVDA     1.067801\n",
       "MSFT     0.859136\n",
       "AVGO     0.645620\n",
       "AMZN     0.536354\n",
       "AAPL     0.477018\n",
       "META     0.385017\n",
       "TSLA     0.337308\n",
       "GOOGL    0.298598\n",
       "SPY     -7.893588\n",
       "Name: optimized weights, dtype: float64"
      ]
     },
     "execution_count": 14,
     "metadata": {},
     "output_type": "execute_result"
    }
   ],
   "source": [
    "wts['optimized weights'].sort_values(ascending=False)"
   ]
  },
  {
   "cell_type": "code",
   "execution_count": 15,
   "id": "9ecfbff0",
   "metadata": {},
   "outputs": [
    {
     "data": {
      "image/png": "[encoded data removed]",
      "text/plain": [
       "<Figure size 640x480 with 1 Axes>"
      ]
     },
     "metadata": {},
     "output_type": "display_data"
    }
   ],
   "source": [
    "wts.plot.bar();"
   ]
  },
  {
   "cell_type": "markdown",
   "id": "3eda8d9f",
   "metadata": {},
   "source": [
    "### **<span style=\"color:red\">Solution 2.3</span>**"
   ]
  },
  {
   "cell_type": "code",
   "execution_count": 16,
   "id": "02105575",
   "metadata": {},
   "outputs": [
    {
     "data": {
      "text/html": [
       "<div>\n",
       "<style scoped>\n",
       "    .dataframe tbody tr th:only-of-type {\n",
       "        vertical-align: middle;\n",
       "    }\n",
       "\n",
       "    .dataframe tbody tr th {\n",
       "        vertical-align: top;\n",
       "    }\n",
       "\n",
       "    .dataframe thead th {\n",
       "        text-align: right;\n",
       "    }\n",
       "</style>\n",
       "<table border=\"1\" class=\"dataframe\">\n",
       "  <thead>\n",
       "    <tr style=\"text-align: right;\">\n",
       "      <th></th>\n",
       "      <th>Mean</th>\n",
       "      <th>Vol</th>\n",
       "      <th>Sharpe</th>\n",
       "      <th>Min</th>\n",
       "      <th>Max</th>\n",
       "    </tr>\n",
       "  </thead>\n",
       "  <tbody>\n",
       "    <tr>\n",
       "      <th>optimized weights</th>\n",
       "      <td>1.545781</td>\n",
       "      <td>0.723538</td>\n",
       "      <td>2.136419</td>\n",
       "      <td>-0.315521</td>\n",
       "      <td>0.373921</td>\n",
       "    </tr>\n",
       "  </tbody>\n",
       "</table>\n",
       "</div>"
      ],
      "text/plain": [
       "                       Mean       Vol    Sharpe       Min       Max\n",
       "optimized weights  1.545781  0.723538  2.136419 -0.315521  0.373921"
      ]
     },
     "execution_count": 16,
     "metadata": {},
     "output_type": "execute_result"
    }
   ],
   "source": [
    "port = pd.DataFrame(rets @ wts['optimized weights'],columns=['optimized weights'])\n",
    "performanceMetrics(port,annualization=FREQ)"
   ]
  },
  {
   "cell_type": "markdown",
   "id": "9141f7e8",
   "metadata": {},
   "source": [
    "### **<span style=\"color:red\">Solution 2.4</span>**"
   ]
  },
  {
   "cell_type": "code",
   "execution_count": 17,
   "id": "9377ca91",
   "metadata": {},
   "outputs": [
    {
     "data": {
      "text/html": [
       "<div>\n",
       "<style scoped>\n",
       "    .dataframe tbody tr th:only-of-type {\n",
       "        vertical-align: middle;\n",
       "    }\n",
       "\n",
       "    .dataframe tbody tr th {\n",
       "        vertical-align: top;\n",
       "    }\n",
       "\n",
       "    .dataframe thead th {\n",
       "        text-align: right;\n",
       "    }\n",
       "</style>\n",
       "<table border=\"1\" class=\"dataframe\">\n",
       "  <thead>\n",
       "    <tr style=\"text-align: right;\">\n",
       "      <th></th>\n",
       "      <th>optimized weights</th>\n",
       "      <th>Sharpe</th>\n",
       "    </tr>\n",
       "  </thead>\n",
       "  <tbody>\n",
       "    <tr>\n",
       "      <th>BRK-B</th>\n",
       "      <td>3.084359</td>\n",
       "      <td>0.685508</td>\n",
       "    </tr>\n",
       "    <tr>\n",
       "      <th>LLY</th>\n",
       "      <td>1.202377</td>\n",
       "      <td>0.948195</td>\n",
       "    </tr>\n",
       "    <tr>\n",
       "      <th>NVDA</th>\n",
       "      <td>1.067801</td>\n",
       "      <td>1.415184</td>\n",
       "    </tr>\n",
       "    <tr>\n",
       "      <th>MSFT</th>\n",
       "      <td>0.859136</td>\n",
       "      <td>1.057631</td>\n",
       "    </tr>\n",
       "    <tr>\n",
       "      <th>AVGO</th>\n",
       "      <td>0.645620</td>\n",
       "      <td>1.019597</td>\n",
       "    </tr>\n",
       "    <tr>\n",
       "      <th>AMZN</th>\n",
       "      <td>0.536354</td>\n",
       "      <td>0.985051</td>\n",
       "    </tr>\n",
       "    <tr>\n",
       "      <th>AAPL</th>\n",
       "      <td>0.477018</td>\n",
       "      <td>0.826057</td>\n",
       "    </tr>\n",
       "    <tr>\n",
       "      <th>META</th>\n",
       "      <td>0.385017</td>\n",
       "      <td>0.779574</td>\n",
       "    </tr>\n",
       "    <tr>\n",
       "      <th>TSLA</th>\n",
       "      <td>0.337308</td>\n",
       "      <td>0.788407</td>\n",
       "    </tr>\n",
       "    <tr>\n",
       "      <th>GOOGL</th>\n",
       "      <td>0.298598</td>\n",
       "      <td>0.787376</td>\n",
       "    </tr>\n",
       "    <tr>\n",
       "      <th>SPY</th>\n",
       "      <td>-7.893588</td>\n",
       "      <td>0.694271</td>\n",
       "    </tr>\n",
       "  </tbody>\n",
       "</table>\n",
       "</div>"
      ],
      "text/plain": [
       "       optimized weights    Sharpe\n",
       "BRK-B           3.084359  0.685508\n",
       "LLY             1.202377  0.948195\n",
       "NVDA            1.067801  1.415184\n",
       "MSFT            0.859136  1.057631\n",
       "AVGO            0.645620  1.019597\n",
       "AMZN            0.536354  0.985051\n",
       "AAPL            0.477018  0.826057\n",
       "META            0.385017  0.779574\n",
       "TSLA            0.337308  0.788407\n",
       "GOOGL           0.298598  0.787376\n",
       "SPY            -7.893588  0.694271"
      ]
     },
     "execution_count": 17,
     "metadata": {},
     "output_type": "execute_result"
    }
   ],
   "source": [
    "sharpe_vs_wts = pd.concat([wts['optimized weights'],mets['Sharpe']],axis=1)\n",
    "sharpe_vs_wts.sort_values('optimized weights',ascending=False)"
   ]
  },
  {
   "cell_type": "code",
   "execution_count": 18,
   "id": "82d6d99c",
   "metadata": {},
   "outputs": [
    {
     "data": {
      "image/png": "[encoded data removed]",
      "text/plain": [
       "<Figure size 640x480 with 1 Axes>"
      ]
     },
     "metadata": {},
     "output_type": "display_data"
    }
   ],
   "source": [
    "xlabel = 'Sharpe'\n",
    "ylabel = 'optimized weights'\n",
    "\n",
    "fig, ax = plt.subplots()\n",
    "\n",
    "for idx, row in sharpe_vs_wts.iterrows():\n",
    "    ax.scatter(row[xlabel], row[ylabel], label=str(idx),s=100,alpha=0.5)\n",
    "\n",
    "ax.set_xlabel(xlabel)\n",
    "ax.set_ylabel(ylabel)\n",
    "ax.legend(title='Index', bbox_to_anchor=(1.05, 1), loc='upper left')\n",
    "plt.tight_layout()\n",
    "plt.show()"
   ]
  },
  {
   "cell_type": "markdown",
   "id": "db42f038",
   "metadata": {},
   "source": [
    "### **<span style=\"color:red\">Solution 2.5</span>**"
   ]
  },
  {
   "cell_type": "code",
   "execution_count": 19,
   "id": "6df91cf5",
   "metadata": {},
   "outputs": [],
   "source": [
    "DROPTICK = 'SPY'"
   ]
  },
  {
   "cell_type": "code",
   "execution_count": 20,
   "id": "d82b181f",
   "metadata": {},
   "outputs": [],
   "source": [
    "wts[f'optimized ex {DROPTICK}'] = optimized_weights(rets.drop(columns=[DROPTICK]))\n",
    "wts.loc[f'{DROPTICK}',f'optimized ex {DROPTICK}'] = 0\n",
    "\n",
    "port[f'optimized ex {DROPTICK}'] = pd.DataFrame(rets @ wts[f'optimized ex {DROPTICK}'],columns=[f'optimized ex {DROPTICK}'])"
   ]
  },
  {
   "cell_type": "code",
   "execution_count": 21,
   "id": "cc16ff32",
   "metadata": {},
   "outputs": [
    {
     "data": {
      "text/plain": [
       "SPY      0.000000\n",
       "AAPL    -0.078166\n",
       "NVDA     0.370675\n",
       "MSFT     0.014582\n",
       "GOOGL   -0.071598\n",
       "AMZN     0.145160\n",
       "META     0.028621\n",
       "TSLA     0.038724\n",
       "AVGO     0.104653\n",
       "BRK-B    0.047814\n",
       "LLY      0.399535\n",
       "Name: optimized ex SPY, dtype: float64"
      ]
     },
     "execution_count": 21,
     "metadata": {},
     "output_type": "execute_result"
    }
   ],
   "source": [
    "wts[f'optimized ex {DROPTICK}']"
   ]
  },
  {
   "cell_type": "code",
   "execution_count": 22,
   "id": "db26e902",
   "metadata": {},
   "outputs": [
    {
     "data": {
      "image/png": "[encoded data removed]",
      "text/plain": [
       "<Figure size 640x480 with 1 Axes>"
      ]
     },
     "metadata": {},
     "output_type": "display_data"
    }
   ],
   "source": [
    "wts[f'optimized ex {DROPTICK}'].plot.bar();\n",
    "plt.title(f'Weights - dropped {DROPTICK}');"
   ]
  },
  {
   "cell_type": "markdown",
   "id": "3bfdc4da",
   "metadata": {},
   "source": [
    "These weights are much more realistic. They are reasonable magnitudes and don't include massive short positions.\n",
    "\n",
    "Without `SPY`, the correlation matrix has relatively low correlations. Thus, the optimizer doesn't think it can achieve such balanced (hedged) offsets, so it doesn't prescribe extremes. "
   ]
  },
  {
   "cell_type": "code",
   "execution_count": 23,
   "id": "4daf2ec3",
   "metadata": {},
   "outputs": [
    {
     "data": {
      "text/html": [
       "<div>\n",
       "<style scoped>\n",
       "    .dataframe tbody tr th:only-of-type {\n",
       "        vertical-align: middle;\n",
       "    }\n",
       "\n",
       "    .dataframe tbody tr th {\n",
       "        vertical-align: top;\n",
       "    }\n",
       "\n",
       "    .dataframe thead th {\n",
       "        text-align: right;\n",
       "    }\n",
       "</style>\n",
       "<table border=\"1\" class=\"dataframe\">\n",
       "  <thead>\n",
       "    <tr style=\"text-align: right;\">\n",
       "      <th></th>\n",
       "      <th>Mean</th>\n",
       "      <th>Vol</th>\n",
       "      <th>Sharpe</th>\n",
       "      <th>Min</th>\n",
       "      <th>Max</th>\n",
       "    </tr>\n",
       "  </thead>\n",
       "  <tbody>\n",
       "    <tr>\n",
       "      <th>optimized weights</th>\n",
       "      <td>1.545781</td>\n",
       "      <td>0.723538</td>\n",
       "      <td>2.136419</td>\n",
       "      <td>-0.315521</td>\n",
       "      <td>0.373921</td>\n",
       "    </tr>\n",
       "    <tr>\n",
       "      <th>optimized ex SPY</th>\n",
       "      <td>0.435430</td>\n",
       "      <td>0.270785</td>\n",
       "      <td>1.608027</td>\n",
       "      <td>-0.117001</td>\n",
       "      <td>0.151971</td>\n",
       "    </tr>\n",
       "  </tbody>\n",
       "</table>\n",
       "</div>"
      ],
      "text/plain": [
       "                       Mean       Vol    Sharpe       Min       Max\n",
       "optimized weights  1.545781  0.723538  2.136419 -0.315521  0.373921\n",
       "optimized ex SPY   0.435430  0.270785  1.608027 -0.117001  0.151971"
      ]
     },
     "execution_count": 23,
     "metadata": {},
     "output_type": "execute_result"
    }
   ],
   "source": [
    "performanceMetrics(port,annualization=FREQ)"
   ]
  },
  {
   "cell_type": "markdown",
   "id": "7e2c4390",
   "metadata": {},
   "source": [
    "### **<span style=\"color:red\">Solution 2.6</span>**"
   ]
  },
  {
   "cell_type": "markdown",
   "id": "86bf180b",
   "metadata": {},
   "source": [
    "* False. Performance of the tangency portfolio barely changes.\n",
    "* True. The weights of the tangency portfolio are unstable and change substantially.\n",
    "* False. This doesn't make sense. Changes in means don't change the correlation."
   ]
  },
  {
   "cell_type": "markdown",
   "id": "dba2cf18",
   "metadata": {},
   "source": [
    "### **<span style=\"color:red\">Solution 2.7.</span>**"
   ]
  },
  {
   "cell_type": "markdown",
   "id": "184098db",
   "metadata": {},
   "source": [
    "1. The optimization is unrealistic in that it prescribes massive positions.\n",
    "* `SPY` is short nearly 600%.\n",
    "* `BRK-B` is long nearly 200%.\n",
    "\n",
    "1. Harvard uses **constraints** on the positions.\n",
    "\n",
    "1. Harvard understands that for many assets, the covariance matrix is too ill-conditioned for stable inversion."
   ]
  },
  {
   "cell_type": "markdown",
   "id": "e77ba1e6",
   "metadata": {},
   "source": [
    "***"
   ]
  },
  {
   "cell_type": "markdown",
   "id": "d730c0c5",
   "metadata": {},
   "source": [
    "# 3. Expected Returns"
   ]
  },
  {
   "cell_type": "markdown",
   "id": "7dcc2592",
   "metadata": {},
   "source": [
    "### 3.1.\n",
    "\n",
    "Consider the CAPM as tested with a single stock,\n",
    "\n",
    "$$\\mathbb{E}\\left[r\\right] = \\beta\\,  \\mathbb{E}\\left[x\\right]$$\n",
    "\n",
    "where\n",
    "* $r$ denotes the return on `NVDA`, and ETF for U.S. oil\n",
    "* $x$ denotes the returns on `SPY`, an ETF for USD currency trades.\n",
    "\n",
    "Estimate the associated regression,\n",
    "$$r_t = \\alpha + \\beta x_t + \\epsilon_t$$\n",
    "\n",
    "Report,\n",
    "* $\\alpha$\n",
    "* $\\beta$\n",
    "* r-squared\n",
    "\n",
    "Annualize alpha."
   ]
  },
  {
   "cell_type": "markdown",
   "id": "eb7a42e6",
   "metadata": {},
   "source": [
    "### 3.2.\n",
    "\n",
    "What evidence is there that this (simplistic) factor pricing model does not price `NVDA` correctly?"
   ]
  },
  {
   "cell_type": "markdown",
   "id": "fe04fdc9",
   "metadata": {},
   "source": [
    "### 3.3.\n",
    "\n",
    "What is the (annualized) average excess return of `NVDA`?\n",
    "\n",
    "According to the CAPM, what level of average excess return is explained by the factor risk?"
   ]
  },
  {
   "cell_type": "markdown",
   "id": "a764d5b2",
   "metadata": {},
   "source": [
    "### 3.4.\n",
    "\n",
    "Now let's disregard the equilibrium pricing model above, and try calculating the expected return of `NVDA` via forecasting signals. To keep things simple, just use a forecasting regression (rather than a neural network, regression tree, etc.)\n",
    "$$r_{t+1} = \\alpha + \\beta x_t + \\epsilon_{t+1}$$\n",
    "\n",
    "We estimate a forecasting regression of `NVDA` on `SPY`.\n",
    "\n",
    "\n",
    "From this **forecasting** regression, report\n",
    "* $\\alpha$\n",
    "* $\\beta$\n",
    "* r-squared"
   ]
  },
  {
   "cell_type": "markdown",
   "id": "0b504c4e",
   "metadata": {},
   "source": [
    "### 3.5.\n",
    "\n",
    "Given the stats in `3.4.`, what do you think of this forecast for `NVDA`? Be specific."
   ]
  },
  {
   "cell_type": "markdown",
   "id": "a8126992",
   "metadata": {},
   "source": [
    "### 3.6.\n",
    "\n",
    "According to the signal forecasting model, what is the expected return (annualized) of `NVDA` in `July 2025`?"
   ]
  },
  {
   "cell_type": "markdown",
   "id": "4328087f",
   "metadata": {},
   "source": [
    "### 3.7.\n",
    "\n",
    "Why is it important to create style factors which go **long** and **short** the targeted style?"
   ]
  },
  {
   "cell_type": "markdown",
   "id": "788b43ca",
   "metadata": {},
   "source": [
    "****"
   ]
  },
  {
   "cell_type": "markdown",
   "id": "8ae43447",
   "metadata": {},
   "source": [
    "# **<span style=\"color:red\">Solution 3</span>**"
   ]
  },
  {
   "cell_type": "markdown",
   "id": "24f31609",
   "metadata": {},
   "source": [
    "### **<span style=\"color:red\">3.1.</span>**"
   ]
  },
  {
   "cell_type": "code",
   "execution_count": 24,
   "id": "9e144a83",
   "metadata": {},
   "outputs": [],
   "source": [
    "YTICK = 'NVDA'\n",
    "XTICK = 'SPY'"
   ]
  },
  {
   "cell_type": "code",
   "execution_count": 25,
   "id": "6eaa7d70",
   "metadata": {},
   "outputs": [
    {
     "data": {
      "text/html": [
       "<div>\n",
       "<style scoped>\n",
       "    .dataframe tbody tr th:only-of-type {\n",
       "        vertical-align: middle;\n",
       "    }\n",
       "\n",
       "    .dataframe tbody tr th {\n",
       "        vertical-align: top;\n",
       "    }\n",
       "\n",
       "    .dataframe thead th {\n",
       "        text-align: right;\n",
       "    }\n",
       "</style>\n",
       "<table border=\"1\" class=\"dataframe\">\n",
       "  <thead>\n",
       "    <tr style=\"text-align: right;\">\n",
       "      <th></th>\n",
       "      <th>alpha</th>\n",
       "      <th>SPY</th>\n",
       "      <th>r-squared</th>\n",
       "      <th>Treynor Ratio</th>\n",
       "      <th>Info Ratio</th>\n",
       "    </tr>\n",
       "  </thead>\n",
       "  <tbody>\n",
       "    <tr>\n",
       "      <th>NVDA</th>\n",
       "      <td>0.449431</td>\n",
       "      <td>1.71686</td>\n",
       "      <td>0.405526</td>\n",
       "      <td>0.380714</td>\n",
       "      <td>1.262048</td>\n",
       "    </tr>\n",
       "  </tbody>\n",
       "</table>\n",
       "</div>"
      ],
      "text/plain": [
       "         alpha      SPY  r-squared  Treynor Ratio  Info Ratio\n",
       "NVDA  0.449431  1.71686   0.405526       0.380714    1.262048"
      ]
     },
     "execution_count": 25,
     "metadata": {},
     "output_type": "execute_result"
    }
   ],
   "source": [
    "y = rets[[YTICK]]\n",
    "x = rets[[XTICK]]\n",
    "\n",
    "mod = get_ols_metrics(x,y,annualization=FREQ)\n",
    "mod"
   ]
  },
  {
   "cell_type": "markdown",
   "id": "311875c9",
   "metadata": {},
   "source": [
    "### **<span style=\"color:red\">3.2.</span>**"
   ]
  },
  {
   "cell_type": "markdown",
   "id": "d4d0dab4",
   "metadata": {},
   "source": [
    "The evidence against a factor pricing model is the non-zero alpha. Here the annualized alpha of `45`% says that the expected excess return of `NVDA` is `45`% higher than can be explained by its beta to `SPY`."
   ]
  },
  {
   "cell_type": "markdown",
   "id": "5fc0ba70",
   "metadata": {},
   "source": [
    "### **<span style=\"color:red\">3.3.</span>**"
   ]
  },
  {
   "cell_type": "markdown",
   "id": "73d441c7",
   "metadata": {},
   "source": [
    "The equilibrium model says that all the expected excess return is due to holding beta risk, and the rest of the mean excess return we observe is the alpha, which could be seen as an error to the model or as an excess return beyond what is earned on risk."
   ]
  },
  {
   "cell_type": "code",
   "execution_count": 26,
   "id": "157eff8e",
   "metadata": {},
   "outputs": [],
   "source": [
    "dt = y.index[-1]\n",
    "expected_return = pd.DataFrame(index=[dt], columns = ['equilibrium','signal forecast'],dtype=float)\n",
    "expected_return.index.name = 'date'\n",
    "expected_return.loc[dt,'equilibrium'] = mod.loc[YTICK,XTICK] * x.mean().loc[XTICK] * FREQ"
   ]
  },
  {
   "cell_type": "code",
   "execution_count": 27,
   "id": "defcf50e",
   "metadata": {},
   "outputs": [
    {
     "data": {
      "text/html": [
       "<div>\n",
       "<style scoped>\n",
       "    .dataframe tbody tr th:only-of-type {\n",
       "        vertical-align: middle;\n",
       "    }\n",
       "\n",
       "    .dataframe tbody tr th {\n",
       "        vertical-align: top;\n",
       "    }\n",
       "\n",
       "    .dataframe thead th {\n",
       "        text-align: right;\n",
       "    }\n",
       "</style>\n",
       "<table border=\"1\" class=\"dataframe\">\n",
       "  <thead>\n",
       "    <tr style=\"text-align: right;\">\n",
       "      <th></th>\n",
       "      <th>NVDA</th>\n",
       "    </tr>\n",
       "  </thead>\n",
       "  <tbody>\n",
       "    <tr>\n",
       "      <th>risk-based</th>\n",
       "      <td>0.204202</td>\n",
       "    </tr>\n",
       "    <tr>\n",
       "      <th>alpha</th>\n",
       "      <td>0.449431</td>\n",
       "    </tr>\n",
       "  </tbody>\n",
       "</table>\n",
       "</div>"
      ],
      "text/plain": [
       "                NVDA\n",
       "risk-based  0.204202\n",
       "alpha       0.449431"
      ]
     },
     "execution_count": 27,
     "metadata": {},
     "output_type": "execute_result"
    }
   ],
   "source": [
    "tab_prem = pd.DataFrame(dtype=float,index=['risk-based','alpha'],columns=[YTICK])\n",
    "tab_prem.loc['risk-based'] = expected_return.loc[dt,'equilibrium']\n",
    "tab_prem.loc['alpha'] = mod['alpha']\n",
    "tab_prem"
   ]
  },
  {
   "cell_type": "markdown",
   "id": "bd1de6df",
   "metadata": {},
   "source": [
    "### **<span style=\"color:red\">3.4.</span>**"
   ]
  },
  {
   "cell_type": "code",
   "execution_count": 28,
   "id": "4f6286b5",
   "metadata": {},
   "outputs": [
    {
     "data": {
      "text/html": [
       "<div>\n",
       "<style scoped>\n",
       "    .dataframe tbody tr th:only-of-type {\n",
       "        vertical-align: middle;\n",
       "    }\n",
       "\n",
       "    .dataframe tbody tr th {\n",
       "        vertical-align: top;\n",
       "    }\n",
       "\n",
       "    .dataframe thead th {\n",
       "        text-align: right;\n",
       "    }\n",
       "</style>\n",
       "<table border=\"1\" class=\"dataframe\">\n",
       "  <thead>\n",
       "    <tr style=\"text-align: right;\">\n",
       "      <th></th>\n",
       "      <th>alpha</th>\n",
       "      <th>SPY</th>\n",
       "      <th>r-squared</th>\n",
       "      <th>Treynor Ratio</th>\n",
       "      <th>Info Ratio</th>\n",
       "    </tr>\n",
       "  </thead>\n",
       "  <tbody>\n",
       "    <tr>\n",
       "      <th>NVDA</th>\n",
       "      <td>0.682173</td>\n",
       "      <td>-0.227943</td>\n",
       "      <td>0.007127</td>\n",
       "      <td>-2.876803</td>\n",
       "      <td>1.481074</td>\n",
       "    </tr>\n",
       "  </tbody>\n",
       "</table>\n",
       "</div>"
      ],
      "text/plain": [
       "         alpha       SPY  r-squared  Treynor Ratio  Info Ratio\n",
       "NVDA  0.682173 -0.227943   0.007127      -2.876803    1.481074"
      ]
     },
     "execution_count": 28,
     "metadata": {},
     "output_type": "execute_result"
    }
   ],
   "source": [
    "y = rets[[YTICK]]\n",
    "x = rets[[XTICK]].shift(1)\n",
    "\n",
    "mod = get_ols_metrics(x,y,annualization=FREQ)\n",
    "mod"
   ]
  },
  {
   "cell_type": "markdown",
   "id": "78041409",
   "metadata": {},
   "source": [
    "### **<span style=\"color:red\">3.5.</span>**"
   ]
  },
  {
   "cell_type": "markdown",
   "id": "4f6965ba",
   "metadata": {},
   "source": [
    "The forecast has an r-squared of `0.7%`! So it is not very informative about the target. "
   ]
  },
  {
   "cell_type": "markdown",
   "id": "445e0433",
   "metadata": {},
   "source": [
    "### **<span style=\"color:red\">3.6.</span>**"
   ]
  },
  {
   "cell_type": "code",
   "execution_count": 29,
   "id": "189f1f9c",
   "metadata": {},
   "outputs": [
    {
     "data": {
      "text/html": [
       "<div>\n",
       "<style scoped>\n",
       "    .dataframe tbody tr th:only-of-type {\n",
       "        vertical-align: middle;\n",
       "    }\n",
       "\n",
       "    .dataframe tbody tr th {\n",
       "        vertical-align: top;\n",
       "    }\n",
       "\n",
       "    .dataframe thead th {\n",
       "        text-align: right;\n",
       "    }\n",
       "</style>\n",
       "<table border=\"1\" class=\"dataframe\">\n",
       "  <thead>\n",
       "    <tr style=\"text-align: right;\">\n",
       "      <th></th>\n",
       "      <th>equilibrium</th>\n",
       "      <th>signal forecast</th>\n",
       "    </tr>\n",
       "    <tr>\n",
       "      <th>date</th>\n",
       "      <th></th>\n",
       "      <th></th>\n",
       "    </tr>\n",
       "  </thead>\n",
       "  <tbody>\n",
       "    <tr>\n",
       "      <th>2025-06-27</th>\n",
       "      <td>0.204202</td>\n",
       "      <td>0.281449</td>\n",
       "    </tr>\n",
       "  </tbody>\n",
       "</table>\n",
       "</div>"
      ],
      "text/plain": [
       "            equilibrium  signal forecast\n",
       "date                                    \n",
       "2025-06-27     0.204202         0.281449"
      ]
     },
     "execution_count": 29,
     "metadata": {},
     "output_type": "execute_result"
    }
   ],
   "source": [
    "expected_return.loc[dt,'signal forecast'] = mod.loc[YTICK,'alpha'] + mod.loc[YTICK,XTICK] * rets.loc[dt,XTICK] * FREQ\n",
    "expected_return"
   ]
  },
  {
   "cell_type": "markdown",
   "id": "9f54f7d0",
   "metadata": {},
   "source": [
    "### **<span style=\"color:red\">3.7.</span>**"
   ]
  },
  {
   "cell_type": "markdown",
   "id": "bb301b2a",
   "metadata": {},
   "source": [
    "The style factors need to be long and short the style to avoid becoming highly correlated to the broad equity factor. For example, a portfolio of value stocks will be highly correlated to the S&P unless we make the basket long value and short growth."
   ]
  },
  {
   "cell_type": "markdown",
   "id": "17f5d627",
   "metadata": {},
   "source": [
    "***"
   ]
  }
 ],
 "metadata": {
  "hide_input": false,
  "kernelspec": {
   "display_name": ".venv",
   "language": "python",
   "name": "python3"
  },
  "language_info": {
   "codemirror_mode": {
    "name": "ipython",
    "version": 3
   },
   "file_extension": ".py",
   "mimetype": "text/x-python",
   "name": "python",
   "nbconvert_exporter": "python",
   "pygments_lexer": "ipython3",
   "version": "3.13.5"
  }
 },
 "nbformat": 4,
 "nbformat_minor": 5
}
